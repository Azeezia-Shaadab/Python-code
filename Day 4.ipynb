{
 "cells": [
  {
   "cell_type": "code",
   "execution_count": 2,
   "id": "54e63750-0a43-4faf-9cd2-8fbbf7d5a219",
   "metadata": {},
   "outputs": [
    {
     "name": "stdin",
     "output_type": "stream",
     "text": [
      " azeezia\n"
     ]
    },
    {
     "name": "stdout",
     "output_type": "stream",
     "text": [
      "Not pallindrome\n"
     ]
    }
   ],
   "source": [
    "#TO CHECK STRING IS PALLINDROME OR NOT\n",
    "a=input()\n",
    "flag = 0\n",
    "\n",
    "for i in range(0,int(len(a)/2)):\n",
    "    if a[i] !=a[(i+1)*-1]:\n",
    "        flag = 1\n",
    "        break\n",
    "if flag:\n",
    "    print(\"Not pallindrome\")\n",
    "else:\n",
    "    print(\"pallindrome\")\n",
    "          \n",
    "        "
   ]
  },
  {
   "cell_type": "code",
   "execution_count": 4,
   "id": "5ab5221a-f027-4a90-865f-e60f2c2235b4",
   "metadata": {},
   "outputs": [
    {
     "name": "stdin",
     "output_type": "stream",
     "text": [
      " @\n"
     ]
    },
    {
     "name": "stdout",
     "output_type": "stream",
     "text": [
      "A is a special character\n"
     ]
    }
   ],
   "source": [
    "# TO FIND WHETHER THE INPUT IS UPPER CASE, LOWER CASE, NUMBER, SPECIAL CHARACTER\n",
    "a=input()\n",
    "\n",
    "if a.isupper():\n",
    "    print(\"A is a upper case character\")\n",
    "elif a.islower():\n",
    "    print(\"A is a lower case character\")\n",
    "elif a.isnumeric():\n",
    "    print(\"A is a number\")\n",
    "else:\n",
    "    print(\"A is a special character\")"
   ]
  },
  {
   "cell_type": "code",
   "execution_count": 3,
   "id": "68e8a2f6-a916-4970-8c58-1f70e2625654",
   "metadata": {},
   "outputs": [
    {
     "name": "stdin",
     "output_type": "stream",
     "text": [
      " 9\n"
     ]
    },
    {
     "name": "stdout",
     "output_type": "stream",
     "text": [
      "A is not a prime number\n"
     ]
    }
   ],
   "source": [
    "# write a program to find prime numbers\n",
    "a= int(input())\n",
    "\n",
    "for i in range(2,int(a/2)):\n",
    "    if a%i==0:\n",
    "        print(\"A is not a prime number\")\n",
    "        break\n",
    "else:\n",
    "    print(\" A is prime number\")\n",
    "        "
   ]
  },
  {
   "cell_type": "code",
   "execution_count": null,
   "id": "eb31642d-1861-4217-bf1d-f537c0ee9093",
   "metadata": {},
   "outputs": [],
   "source": [
    "if__name__ == '__main__':\n",
    "   filename = \"example.txt\"\n",
    "   new_filename = \"new_example.txt\"\n",
    "\n",
    "   create_file(filename)\n",
    "   read_file(filename)\n",
    "   append_file(filename,\"This is some additional text.\\n\")\n",
    "   read_file(filename)\n",
    "   rename_file(filename,new_filename)\n",
    "   read_file(nw_filename)\n",
    "   #delete_file(new_filename)"
   ]
  },
  {
   "cell_type": "code",
   "execution_count": 10,
   "id": "8a660d9a-6cdf-4af2-80d4-d710ff9fbcfd",
   "metadata": {},
   "outputs": [],
   "source": [
    "import os\n",
    "\n",
    "with open(\"file.txt\",'w') as f:\n",
    "    f.write(\"This is first text in file\")\n",
    "    pass"
   ]
  },
  {
   "cell_type": "code",
   "execution_count": 16,
   "id": "fab3c4bc-f0ae-487e-aece-99eb2ce9599f",
   "metadata": {},
   "outputs": [],
   "source": [
    "import os\n",
    "\n",
    "with open(\"file.txt\",'w') as f:\n",
    "    f.write(\"This is first text in file\\n\")\n",
    "    f.close"
   ]
  },
  {
   "cell_type": "code",
   "execution_count": 17,
   "id": "57c9b0c3-527f-4a2e-b28a-ce52f1f56d79",
   "metadata": {},
   "outputs": [],
   "source": [
    "import os\n",
    "\n",
    "with open(\"file.txt\",'a') as f:\n",
    "    f.write(\"This is second text in file\")\n",
    "    f.close"
   ]
  },
  {
   "cell_type": "code",
   "execution_count": null,
   "id": "7fefc19f-a9cb-4f4f-957a-f8c644a5094b",
   "metadata": {},
   "outputs": [],
   "source": [
    "import os\n",
    "\n",
    "os.remove(\"file.txt\")"
   ]
  },
  {
   "cell_type": "code",
   "execution_count": 13,
   "id": "42884e53-544f-4e4d-99d2-05ebbb127406",
   "metadata": {},
   "outputs": [
    {
     "name": "stdout",
     "output_type": "stream",
     "text": [
      "This is second text in file\n",
      "111\n"
     ]
    }
   ],
   "source": [
    "import os\n",
    "with open(\"file.txt\",'r') as f:\n",
    "    for a in f.read().split(\"\\n\"):\n",
    "        print(a)\n",
    "        print(\"111\")\n",
    "    f.close    "
   ]
  },
  {
   "cell_type": "code",
   "execution_count": 14,
   "id": "208cc198-bd43-4891-99e3-be0833e167ed",
   "metadata": {},
   "outputs": [
    {
     "name": "stdout",
     "output_type": "stream",
     "text": [
      "T\n",
      "111\n",
      "h\n",
      "111\n",
      "i\n",
      "111\n",
      "s\n",
      "111\n",
      " \n",
      "111\n",
      "i\n",
      "111\n",
      "s\n",
      "111\n",
      " \n",
      "111\n",
      "s\n",
      "111\n",
      "e\n",
      "111\n",
      "c\n",
      "111\n",
      "o\n",
      "111\n",
      "n\n",
      "111\n",
      "d\n",
      "111\n",
      " \n",
      "111\n",
      "t\n",
      "111\n",
      "e\n",
      "111\n",
      "x\n",
      "111\n",
      "t\n",
      "111\n",
      " \n",
      "111\n",
      "i\n",
      "111\n",
      "n\n",
      "111\n",
      " \n",
      "111\n",
      "f\n",
      "111\n",
      "i\n",
      "111\n",
      "l\n",
      "111\n",
      "e\n",
      "111\n"
     ]
    }
   ],
   "source": [
    "import os\n",
    "with open(\"file.txt\",'r') as f:\n",
    "    for a in f.read():\n",
    "        print(a)\n",
    "        print(\"111\")\n",
    "    f.close    "
   ]
  },
  {
   "cell_type": "markdown",
   "id": "4f6dc2a8-4f6b-4bd7-9b43-eee4da1c52fa",
   "metadata": {},
   "source": [
    "w-> write\n",
    "r-> read\n",
    "a -> append\n",
    "w+ -> write and read\n",
    "r+ -> read and write\n",
    "a+ -> append and read"
   ]
  },
  {
   "cell_type": "code",
   "execution_count": 29,
   "id": "419c54df-d4d4-47d3-84e6-64903c60d770",
   "metadata": {},
   "outputs": [],
   "source": [
    "# CREATE A FILE NAMED AS FRUIT NAME.\n",
    "import os\n",
    "\n",
    "with open(\"fruitname.txt\",'w') as f:\n",
    "    f.write(\"Fruit list\\n\")\n",
    "    f.close()\n"
   ]
  },
  {
   "cell_type": "code",
   "execution_count": 30,
   "id": "7256fcfc-ba2f-41b0-89b5-e109ee8df8f6",
   "metadata": {},
   "outputs": [],
   "source": [
    "import os\n",
    "\n",
    "with open(\"fruitname.txt\",'a') as f:\n",
    "    f.write(\"Apple,Banana,mango\\n\")\n",
    "    f.close"
   ]
  },
  {
   "cell_type": "code",
   "execution_count": null,
   "id": "157d6c66-12b8-4962-b9dd-9ab7cd92f7f3",
   "metadata": {},
   "outputs": [],
   "source": []
  }
 ],
 "metadata": {
  "kernelspec": {
   "display_name": "Python 3 (ipykernel)",
   "language": "python",
   "name": "python3"
  },
  "language_info": {
   "codemirror_mode": {
    "name": "ipython",
    "version": 3
   },
   "file_extension": ".py",
   "mimetype": "text/x-python",
   "name": "python",
   "nbconvert_exporter": "python",
   "pygments_lexer": "ipython3",
   "version": "3.12.3"
  }
 },
 "nbformat": 4,
 "nbformat_minor": 5
}
