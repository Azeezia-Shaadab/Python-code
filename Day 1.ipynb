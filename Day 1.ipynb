{
 "cells": [
  {
   "cell_type": "code",
   "execution_count": 1,
   "id": "82fade82-3bb9-4fd1-ad50-d811f2217e88",
   "metadata": {},
   "outputs": [
    {
     "name": "stdout",
     "output_type": "stream",
     "text": [
      "5\n",
      "<class 'int'>\n"
     ]
    }
   ],
   "source": [
    "a=5\n",
    "print(a)\n",
    "print(type(a))"
   ]
  },
  {
   "cell_type": "code",
   "execution_count": 2,
   "id": "d8b2c834-264f-4988-a98e-67f2370df8f9",
   "metadata": {},
   "outputs": [
    {
     "name": "stdout",
     "output_type": "stream",
     "text": [
      "7.5\n",
      "<class 'float'>\n"
     ]
    }
   ],
   "source": [
    "a=7.5\n",
    "print(a)\n",
    "print(type(a))"
   ]
  },
  {
   "cell_type": "code",
   "execution_count": 3,
   "id": "d7f568eb-dd76-4981-baa2-13e516b20089",
   "metadata": {},
   "outputs": [
    {
     "name": "stdout",
     "output_type": "stream",
     "text": [
      "[3, 4, 5]\n",
      "<class 'list'>\n"
     ]
    }
   ],
   "source": [
    "a=[3,4,5]\n",
    "print(a)\n",
    "print(type(a))"
   ]
  },
  {
   "cell_type": "code",
   "execution_count": 4,
   "id": "2d2b80a7-3b78-4169-a5fb-171d27b785bd",
   "metadata": {},
   "outputs": [
    {
     "name": "stdout",
     "output_type": "stream",
     "text": [
      "(1, 2, 3, 4)\n",
      "<class 'tuple'>\n"
     ]
    }
   ],
   "source": [
    "a=(1,2,3,4)\n",
    "print(a)\n",
    "print(type(a))"
   ]
  },
  {
   "cell_type": "code",
   "execution_count": 5,
   "id": "c5442cb0-086a-422a-bb6f-dd2d3f47a585",
   "metadata": {},
   "outputs": [
    {
     "name": "stdout",
     "output_type": "stream",
     "text": [
      "{1: 'mussu', 2: 'salma'}\n",
      "<class 'dict'>\n"
     ]
    }
   ],
   "source": [
    "a={1:\"mussu\",2:\"salma\"}\n",
    "print(a)\n",
    "print(type(a))"
   ]
  },
  {
   "cell_type": "code",
   "execution_count": 6,
   "id": "6bf23a9c-7e2b-45f1-bfa9-76b1248fb05c",
   "metadata": {},
   "outputs": [
    {
     "name": "stdout",
     "output_type": "stream",
     "text": [
      "range(4, 6)\n",
      "<class 'range'>\n"
     ]
    }
   ],
   "source": [
    "a=range(4,6)\n",
    "print(a)\n",
    "print(type(a))"
   ]
  },
  {
   "cell_type": "code",
   "execution_count": 7,
   "id": "98637484-90d2-4301-886b-5151597b5c52",
   "metadata": {},
   "outputs": [
    {
     "name": "stdout",
     "output_type": "stream",
     "text": [
      "abcd gdgj xyzv mnop\n",
      "abcdgdgjxyzvmnop\n"
     ]
    }
   ],
   "source": [
    "a=\"abcd\"\n",
    "b=\"gdgj\"\n",
    "c=\"xyzv\"\n",
    "\n",
    "print(a,b,c,\"mnop\")\n",
    "print(a+b+c+\"mnop\")"
   ]
  },
  {
   "cell_type": "code",
   "execution_count": null,
   "id": "c31b3c4b-f0f6-4132-937c-01380e42eccd",
   "metadata": {},
   "outputs": [],
   "source": []
  },
  {
   "cell_type": "code",
   "execution_count": 10,
   "id": "652baf83-ad73-4e03-bfab-e3b4ac272f75",
   "metadata": {},
   "outputs": [
    {
     "name": "stdin",
     "output_type": "stream",
     "text": [
      "enter the first number: 5\n",
      "enter the second number: 6\n"
     ]
    },
    {
     "name": "stdout",
     "output_type": "stream",
     "text": [
      "11\n"
     ]
    }
   ],
   "source": [
    "a=int(input(\"enter the first number:\"))\n",
    "b=int(input(\"enter the second number:\"))\n",
    "            \n",
    "c=a+b\n",
    "print(c)     "
   ]
  },
  {
   "cell_type": "code",
   "execution_count": 13,
   "id": "e4eab467-54b5-4256-9955-da7f6fa14181",
   "metadata": {},
   "outputs": [
    {
     "name": "stdin",
     "output_type": "stream",
     "text": [
      "Enter three number:  4 6 3\n"
     ]
    },
    {
     "name": "stdout",
     "output_type": "stream",
     "text": [
      "463\n"
     ]
    }
   ],
   "source": [
    "a,b,c=input(\"Enter three number: \").split()\n",
    "d=a+b+c\n",
    "print(d)"
   ]
  },
  {
   "cell_type": "code",
   "execution_count": 15,
   "id": "cecd250e-54ae-4d46-912a-04b25ee483e7",
   "metadata": {},
   "outputs": [
    {
     "name": "stdout",
     "output_type": "stream",
     "text": [
      "15\n"
     ]
    }
   ],
   "source": [
    "a=10\n",
    "b=5\n",
    "c=a+b\n",
    "print(c)"
   ]
  },
  {
   "cell_type": "code",
   "execution_count": 17,
   "id": "39fc72fc-e2e6-4cb7-b9fb-0311bb5f700d",
   "metadata": {},
   "outputs": [
    {
     "name": "stdout",
     "output_type": "stream",
     "text": [
      "20\n"
     ]
    }
   ],
   "source": [
    "a=40\n",
    "b=20\n",
    "c=a-b\n",
    "print(c)"
   ]
  },
  {
   "cell_type": "code",
   "execution_count": 18,
   "id": "2823a621-1e99-4a74-82ff-b7865bf45120",
   "metadata": {},
   "outputs": [
    {
     "name": "stdout",
     "output_type": "stream",
     "text": [
      "900\n"
     ]
    }
   ],
   "source": [
    "a=30\n",
    "b=30\n",
    "c=a*b\n",
    "print(c)"
   ]
  },
  {
   "cell_type": "code",
   "execution_count": 21,
   "id": "41fb5344-4173-42d4-8b43-fb23821b7b77",
   "metadata": {},
   "outputs": [
    {
     "name": "stdout",
     "output_type": "stream",
     "text": [
      "1.0\n"
     ]
    }
   ],
   "source": [
    "a=30\n",
    "b=30\n",
    "c=a/b\n",
    "print(c)"
   ]
  },
  {
   "cell_type": "code",
   "execution_count": 20,
   "id": "baae0052-3348-49f2-bb46-336616fed01f",
   "metadata": {},
   "outputs": [
    {
     "name": "stdout",
     "output_type": "stream",
     "text": [
      "0\n"
     ]
    }
   ],
   "source": [
    "a=30\n",
    "b=30\n",
    "c=a%b\n",
    "print(c)"
   ]
  },
  {
   "cell_type": "code",
   "execution_count": 22,
   "id": "6f68b748-8f77-4c3b-85a9-ad909ca93a4a",
   "metadata": {},
   "outputs": [
    {
     "name": "stdin",
     "output_type": "stream",
     "text": [
      "Enter three number:  4 azee 7.8\n"
     ]
    },
    {
     "name": "stdout",
     "output_type": "stream",
     "text": [
      "4azee7.8\n"
     ]
    }
   ],
   "source": [
    "a,b,c=input(\"Enter three number: \").split()\n",
    "d=a+b+c\n",
    "print(d)\n"
   ]
  },
  {
   "cell_type": "code",
   "execution_count": 23,
   "id": "d20c99ae-ac35-4508-8c82-a4fae006330c",
   "metadata": {},
   "outputs": [
    {
     "name": "stdin",
     "output_type": "stream",
     "text": [
      "Enter three number:  5 Azeezia 50.5\n"
     ]
    },
    {
     "name": "stdout",
     "output_type": "stream",
     "text": [
      "5Azeezia50.5\n"
     ]
    }
   ],
   "source": [
    "a,b,c=input(\"Enter three number: \").split()\n",
    "d=a+b+c\n",
    "print(d)\n"
   ]
  },
  {
   "cell_type": "code",
   "execution_count": 3,
   "id": "627433cd-9120-446b-b316-b5db2760b0ad",
   "metadata": {},
   "outputs": [
    {
     "name": "stdin",
     "output_type": "stream",
     "text": [
      "enter four number:  azeezia muskan inayath salma\n"
     ]
    },
    {
     "name": "stdout",
     "output_type": "stream",
     "text": [
      "azeeziamuskaninayathsalma\n"
     ]
    }
   ],
   "source": [
    "a,b,c,d=input(\"enter four number: \").split()\n",
    "e=a+b+c+d\n",
    "print(e)"
   ]
  },
  {
   "cell_type": "code",
   "execution_count": 6,
   "id": "7e66c99d-ea69-4cba-8c91-f8922c46e0fa",
   "metadata": {},
   "outputs": [
    {
     "name": "stdin",
     "output_type": "stream",
     "text": [
      "Enter your Name:  Azeezia\n",
      "Enter your Age:  18\n"
     ]
    },
    {
     "name": "stdout",
     "output_type": "stream",
     "text": [
      "Azeezia\n",
      "You are elegible\n"
     ]
    }
   ],
   "source": [
    "Name = input(\"Enter your Name: \")\n",
    "age = int(input(\"Enter your Age: \"))\n",
    "\n",
    "if age>=18:\n",
    "    print(Name)\n",
    "    print(\"You are elegible\")\n",
    "else:\n",
    "    print(Name)\n",
    "    print(\"You are not elegible\")\n",
    "    "
   ]
  },
  {
   "cell_type": "code",
   "execution_count": 7,
   "id": "def6eaeb-d8e7-4bbd-ba6e-9d43c5a18bff",
   "metadata": {},
   "outputs": [
    {
     "name": "stdin",
     "output_type": "stream",
     "text": [
      "Enter your Name:  Azeezia\n",
      "Enter your Age:  15\n"
     ]
    },
    {
     "name": "stdout",
     "output_type": "stream",
     "text": [
      "Azeezia\n",
      "You are not elegible\n"
     ]
    }
   ],
   "source": [
    "Name = input(\"Enter your Name: \")\n",
    "age = int(input(\"Enter your Age: \"))\n",
    "\n",
    "if age>=18:\n",
    "    print(Name)\n",
    "    print(\"You are elegible\")\n",
    "else:\n",
    "    print(Name)\n",
    "    print(\"You are not elegible\")\n",
    "    "
   ]
  },
  {
   "cell_type": "code",
   "execution_count": 8,
   "id": "5a8eeff6-06d0-4351-871d-8b20e806676f",
   "metadata": {},
   "outputs": [
    {
     "name": "stdout",
     "output_type": "stream",
     "text": [
      "b is greater than a\n"
     ]
    }
   ],
   "source": [
    "a=20\n",
    "b=40\n",
    "if a>b:\n",
    "    print(\"a is greater than b\")\n",
    "else:\n",
    "    print(\"b is greater than a\")"
   ]
  },
  {
   "cell_type": "code",
   "execution_count": 15,
   "id": "be5fcf1b-4252-46af-a95c-f9e4c09e2add",
   "metadata": {},
   "outputs": [
    {
     "name": "stdin",
     "output_type": "stream",
     "text": [
      " 40\n",
      " 50\n",
      " 60\n"
     ]
    },
    {
     "name": "stdout",
     "output_type": "stream",
     "text": [
      "c is largest\n"
     ]
    }
   ],
   "source": [
    "a= int(input())\n",
    "b= int(input())\n",
    "c= int(input())\n",
    "\n",
    "if a>b:\n",
    "    if a>c:\n",
    "        print(\"a is largest\")\n",
    "    else:\n",
    "        print(\"c is largest\")\n",
    "else:\n",
    "    if b>c:\n",
    "        print(\"b is largest\")\n",
    "    else:\n",
    "        print(\"c is largest\")\n",
    "        \n",
    "    "
   ]
  },
  {
   "cell_type": "code",
   "execution_count": null,
   "id": "887acb3c-f536-455a-b07c-80d2d68f8c9e",
   "metadata": {},
   "outputs": [],
   "source": []
  },
  {
   "cell_type": "code",
   "execution_count": 17,
   "id": "c7895818-25d5-497c-8260-ddf63530383d",
   "metadata": {},
   "outputs": [
    {
     "name": "stdout",
     "output_type": "stream",
     "text": [
      "a is largest\n"
     ]
    }
   ],
   "source": [
    "a= 60\n",
    "b= 50\n",
    "c= 40\n",
    "\n",
    "if a>b:\n",
    "    if a>c:\n",
    "        print(\"a is largest\")\n",
    "    else:\n",
    "        print(\"c is largest\")\n",
    "else:\n",
    "    if b>c:\n",
    "        print(\"b is largest\")\n",
    "    else:\n",
    "        print(\"c is largest\")\n",
    "        \n",
    "    "
   ]
  },
  {
   "cell_type": "code",
   "execution_count": null,
   "id": "9fa9a389-9c2b-4a3e-a9d7-ee151a4587c5",
   "metadata": {},
   "outputs": [],
   "source": []
  }
 ],
 "metadata": {
  "kernelspec": {
   "display_name": "Python 3 (ipykernel)",
   "language": "python",
   "name": "python3"
  },
  "language_info": {
   "codemirror_mode": {
    "name": "ipython",
    "version": 3
   },
   "file_extension": ".py",
   "mimetype": "text/x-python",
   "name": "python",
   "nbconvert_exporter": "python",
   "pygments_lexer": "ipython3",
   "version": "3.12.3"
  }
 },
 "nbformat": 4,
 "nbformat_minor": 5
}
