{
 "cells": [
  {
   "cell_type": "code",
   "execution_count": 21,
   "id": "b60da3a3-b97f-4a77-9d94-e381fcfbe957",
   "metadata": {},
   "outputs": [
    {
     "name": "stdin",
     "output_type": "stream",
     "text": [
      "Enter a character: a\n"
     ]
    },
    {
     "name": "stdout",
     "output_type": "stream",
     "text": [
      "it is lowercase alphabet\n"
     ]
    }
   ],
   "source": [
    "#program to identify the input character by the user as alphabet lower case,upper case,numeric,special characters.\n",
    "character=input(\"Enter a character:\")\n",
    "if character.islower():\n",
    "    print(\"it is lowercase alphabet\")\n",
    "elif character.isuppercase():\n",
    "    print(\"it is uppercase alphabet\")\n",
    "elif character.isnumeric():\n",
    "    print(\"the input character is an numeric character\")\n",
    "else:\n",
    "    print(\"the input character is an special character\")\n",
    "    \n"
   ]
  },
  {
   "cell_type": "code",
   "execution_count": 9,
   "id": "a0238669-0536-4245-bf22-565c459499f7",
   "metadata": {},
   "outputs": [
    {
     "name": "stdout",
     "output_type": "stream",
     "text": [
      "1\n",
      "2\n",
      "3\n",
      "6.7\n",
      "7\n"
     ]
    }
   ],
   "source": [
    "x=[1,2,3,6.7,7]\n",
    "for a in range(0,5):\n",
    "    print(x[a])"
   ]
  },
  {
   "cell_type": "code",
   "execution_count": 10,
   "id": "adbcad04-0804-42d7-be49-63db36796cf8",
   "metadata": {},
   "outputs": [
    {
     "name": "stdout",
     "output_type": "stream",
     "text": [
      "[1, 2, 3, 4, 5, 6]\n"
     ]
    }
   ],
   "source": [
    "a=[1,2,3,4,5,6]\n",
    "print(a)"
   ]
  },
  {
   "cell_type": "code",
   "execution_count": 11,
   "id": "666eb215-a92a-4d34-acb4-d43426513428",
   "metadata": {},
   "outputs": [
    {
     "name": "stdout",
     "output_type": "stream",
     "text": [
      "[1, 2, 3, 4, 5, 6]\n",
      "<class 'list'>\n",
      "2 3\n"
     ]
    }
   ],
   "source": [
    "a=[1,2,3,4,5,6]\n",
    "print (a)\n",
    "print(type(a))\n",
    "print(2,3)"
   ]
  },
  {
   "cell_type": "code",
   "execution_count": 6,
   "id": "bfbc5fcd-2b07-49c6-85a3-fd09700b304f",
   "metadata": {},
   "outputs": [
    {
     "name": "stdout",
     "output_type": "stream",
     "text": [
      "[1, 2, 3, 4, 5, 6, 'Azeezia']\n",
      "<class 'list'>\n",
      "4 3\n"
     ]
    }
   ],
   "source": [
    "a=[1,2,3,4,5,6,\"Azeezia\"]\n",
    "print (a)\n",
    "print(type(a))\n",
    "print(4,3)"
   ]
  },
  {
   "cell_type": "code",
   "execution_count": 7,
   "id": "5627590a-911e-49fc-ba27-8ac843e3b62a",
   "metadata": {},
   "outputs": [
    {
     "name": "stdout",
     "output_type": "stream",
     "text": [
      "[1, 2, 3, 'salma', 4, 5, 6]\n",
      "<class 'list'>\n",
      "2 3\n"
     ]
    }
   ],
   "source": [
    "a=[1,2,3,\"salma\",4,5,6]\n",
    "print (a)\n",
    "print(type(a))\n",
    "print(2,3)"
   ]
  },
  {
   "cell_type": "markdown",
   "id": "4f730114-c9d5-452b-81d1-3bde054a85cf",
   "metadata": {},
   "source": [
    "#operations\n",
    "1.pop to pull out element of the list(default is last)\n",
    "2.sort the list in ascending order and return none\n",
    "3.def copy is use to copy of the same list\n",
    "4.append object to the end of list\n",
    "5.extend the list by appending the iterating\n",
    "6.index will return the first index og value\n",
    "7.count will count the num of duplicates\n",
    "8.insert will insert the object before index\n",
    "9.remove will remove the first occurance of value\n",
    "10.len is used to find the length of a list\n"
   ]
  },
  {
   "cell_type": "code",
   "execution_count": 23,
   "id": "1e6e25ec-f4e2-44e5-8d10-952ba7cc987f",
   "metadata": {},
   "outputs": [
    {
     "name": "stdout",
     "output_type": "stream",
     "text": [
      "[1, 2, 3, 4, 5]\n",
      "4\n",
      "[1, 2, 3, 5, 3, 7, 5]\n",
      "2\n",
      "2\n",
      "0\n",
      "[1, 2, 3, 5, 2, 3, 7, 5]\n",
      "[1, 2, 5, 2, 3, 7, 5]\n",
      "[7, 5, 5, 3, 2, 2, 1]\n",
      "7\n"
     ]
    }
   ],
   "source": [
    "a=[1,2,3,4,5]\n",
    "b=a.copy()\n",
    "print(b)\n",
    "\n",
    "c=b.pop(3)\n",
    "print(c)\n",
    "\n",
    "b.append(3)\n",
    "b.append(7)\n",
    "b.append(5)\n",
    "print(b)\n",
    "print(b.index(3))\n",
    "print(b.count(3))\n",
    "print(b.count(10))\n",
    "\n",
    "b.insert(4,2)\n",
    "print(b)\n",
    "b.remove(3)\n",
    "print(b)\n",
    "b.sort(reverse=True)\n",
    "print(b)\n",
    "\n",
    "print(len(b))\n"
   ]
  },
  {
   "cell_type": "code",
   "execution_count": 1,
   "id": "591dd3f6-6b6b-4374-adb4-51f49488adfb",
   "metadata": {},
   "outputs": [
    {
     "name": "stdout",
     "output_type": "stream",
     "text": [
      "10\n",
      "9\n",
      "7\n",
      "63\n",
      "5\n",
      "3\n",
      "3\n",
      "2\n",
      "1\n",
      "11\n",
      "2\n",
      "3\n",
      "42\n",
      "54\n",
      "1\n",
      "2\n",
      "36\n",
      "4\n",
      "5\n"
     ]
    }
   ],
   "source": [
    "a=[10,9,7,63,5,3,3,2,1,11,2,3,42,54,1,2,36,4,5]\n",
    "for x in a:\n",
    "    print(x)\n",
    "    "
   ]
  },
  {
   "cell_type": "code",
   "execution_count": 5,
   "id": "75907c3b-947e-4676-aab4-0efd4b230405",
   "metadata": {},
   "outputs": [
    {
     "name": "stdout",
     "output_type": "stream",
     "text": [
      "[2, 4, 6, 8, 10]\n",
      "3 5\n"
     ]
    }
   ],
   "source": [
    "a=[2,4,6,8,10]\n",
    "print (a)\n",
    "print(3,5)"
   ]
  },
  {
   "cell_type": "code",
   "execution_count": 6,
   "id": "d5ddb63f-12a4-49bd-9975-a1629560e452",
   "metadata": {},
   "outputs": [
    {
     "name": "stdout",
     "output_type": "stream",
     "text": [
      "[1, 2, 3, 4, 5, 6]\n",
      "<class 'list'>\n",
      "2 3\n"
     ]
    }
   ],
   "source": [
    "a=[1,2,3,4,5,6]\n",
    "print (a)\n",
    "print(type(a))\n",
    "print(2,3)"
   ]
  },
  {
   "cell_type": "code",
   "execution_count": 7,
   "id": "7fe8aed9-9874-4a6b-bbde-767671573cb6",
   "metadata": {},
   "outputs": [
    {
     "name": "stdin",
     "output_type": "stream",
     "text": [
      "Enter the size of list:  5\n",
      " 7\n",
      " 3\n",
      " 5\n",
      " 8\n",
      " 3\n"
     ]
    },
    {
     "name": "stdout",
     "output_type": "stream",
     "text": [
      "['7', '3', '5', '8', '3']\n"
     ]
    }
   ],
   "source": [
    "n=int(input(\"Enter the size of list: \"))\n",
    "a=[]\n",
    "for x in range(0,n):\n",
    "    x=input()\n",
    "    a.append(x)\n",
    "print(a)    "
   ]
  },
  {
   "cell_type": "code",
   "execution_count": 8,
   "id": "21794ea6-a3e5-4ff6-b448-560523676833",
   "metadata": {},
   "outputs": [
    {
     "name": "stdin",
     "output_type": "stream",
     "text": [
      "Enter the Elements of the list:  1 2 3 4 5 6 7\n"
     ]
    },
    {
     "name": "stdout",
     "output_type": "stream",
     "text": [
      "['1', '2', '3', '4', '5', '6', '7']\n"
     ]
    }
   ],
   "source": [
    "L = [item for item in (input(\"Enter the Elements of the list: \").split())]\n",
    "print(L)"
   ]
  },
  {
   "cell_type": "code",
   "execution_count": 9,
   "id": "98376bba-dbff-4559-841f-35c0b071f19b",
   "metadata": {},
   "outputs": [
    {
     "name": "stdin",
     "output_type": "stream",
     "text": [
      "Enter the Elements of the list:  1 2 3 4 5 6 7\n"
     ]
    },
    {
     "name": "stdout",
     "output_type": "stream",
     "text": [
      "[1, 2, 3, 4, 5, 6, 7]\n"
     ]
    }
   ],
   "source": [
    "L = [int(item) for item in (input(\"Enter the Elements of the list: \").split())]\n",
    "print(L)"
   ]
  },
  {
   "cell_type": "code",
   "execution_count": 15,
   "id": "63157cf6-943f-439e-80e2-e040ee8d772f",
   "metadata": {},
   "outputs": [
    {
     "name": "stdin",
     "output_type": "stream",
     "text": [
      "Enter the Elements of the list:  1 2 3 4 5 6 7\n"
     ]
    },
    {
     "name": "stdout",
     "output_type": "stream",
     "text": [
      "[1, 2, 3, 4, 5, 6, 7]\n"
     ]
    }
   ],
   "source": [
    "L = [int(item) for item in (input(\"Enter the Elements of the list: \").split())]\n",
    "print(L)"
   ]
  },
  {
   "cell_type": "code",
   "execution_count": 16,
   "id": "00f0a331-6a36-447b-885c-e0fb5ef62f2c",
   "metadata": {},
   "outputs": [
    {
     "name": "stdout",
     "output_type": "stream",
     "text": [
      "[1, 2, 3, 4, 5]\n"
     ]
    }
   ],
   "source": [
    "a= list([1,2,3,4,5,])\n",
    "print(a)"
   ]
  },
  {
   "cell_type": "markdown",
   "id": "7ab29cdb-6298-4db9-982e-35032644ff55",
   "metadata": {},
   "source": [
    "Tuples"
   ]
  },
  {
   "cell_type": "code",
   "execution_count": 2,
   "id": "e5374f00-0178-49ad-b0e4-326301227208",
   "metadata": {},
   "outputs": [
    {
     "name": "stdout",
     "output_type": "stream",
     "text": [
      "(1, 2, 3, 4, 5.5, 'Azeezia')\n",
      "[1, 2, 3, 4, 5.5, 'Azeezia']\n",
      "(1, 2, 3, 4, 5.5, 'rfguvu')\n"
     ]
    }
   ],
   "source": [
    "a=(1,2,3,4,5.5,\"Azeezia\")\n",
    "print(a)\n",
    "\n",
    "b=list(a)\n",
    "print(b)\n",
    "b[5]=\"rfguvu\"\n",
    "\n",
    "a=tuple(b)\n",
    "print(a)"
   ]
  },
  {
   "cell_type": "code",
   "execution_count": 1,
   "id": "d70a1b87-d30d-42d6-9733-8efa86c6e878",
   "metadata": {},
   "outputs": [
    {
     "name": "stdout",
     "output_type": "stream",
     "text": [
      "9\n",
      "8\n",
      "7\n",
      "6\n",
      "5\n",
      "4\n",
      "3\n",
      "2\n",
      "1\n"
     ]
    }
   ],
   "source": [
    "a=(1,2,3,4,5,6,7,8,9)\n",
    "for x in range(-1,-1*(len(a)+1),-1):\n",
    "    print(a[x])"
   ]
  },
  {
   "cell_type": "code",
   "execution_count": 3,
   "id": "e04719d8-91d1-4b7b-a8e6-8aa40570161f",
   "metadata": {},
   "outputs": [
    {
     "name": "stdout",
     "output_type": "stream",
     "text": [
      "1\n",
      "2\n",
      "3\n",
      "4\n",
      "5\n",
      "6\n",
      "7\n",
      "8\n",
      "9\n"
     ]
    }
   ],
   "source": [
    "a=(1,2,3,4,5,6,7,8,9)\n",
    "for x in range(len(a),0,-1):\n",
    "    print(a[-1*x])"
   ]
  },
  {
   "cell_type": "code",
   "execution_count": null,
   "id": "1495ff69-05e4-4372-b8d3-07cebd2370f5",
   "metadata": {},
   "outputs": [],
   "source": [
    "Dictionary\n",
    "\n",
    "Key and Values\n",
    "\n",
    "Key Values Pair"
   ]
  },
  {
   "cell_type": "code",
   "execution_count": 6,
   "id": "dc11a9e9-d9a6-486f-b2fc-4d0c4d208389",
   "metadata": {},
   "outputs": [
    {
     "name": "stdout",
     "output_type": "stream",
     "text": [
      "{1: 'Azeezia', 2: 'inayath', 3: 'ABCD'}\n",
      "inayath\n",
      "dict_keys([1, 2, 3])\n",
      "dict_values(['Azeezia', 'inayath', 'ABCD'])\n",
      "dict_items([(1, 'Azeezia'), (2, 'inayath'), (3, 'ABCD')])\n"
     ]
    }
   ],
   "source": [
    "D={1:\"Azeezia\",2:\"inayath\",3:\"ABCD\"}\n",
    "print(D)\n",
    "print(D[2])\n",
    "print(D.keys())\n",
    "print(D.values())\n",
    "print(D.items())\n",
    "\n",
    "print(D.get(4))"
   ]
  },
  {
   "cell_type": "code",
   "execution_count": 1,
   "id": "12b0445d-a52d-428b-ad29-d30cad988014",
   "metadata": {},
   "outputs": [
    {
     "name": "stdout",
     "output_type": "stream",
     "text": [
      "{1: 'ABCD', 2: 'jfhg', 3: 'irpr'}\n",
      "dict_keys([1, 2, 3])\n",
      "dict_items([(1, 'ABCD'), (2, 'jfhg'), (3, 'irpr')])\n",
      "dict_values(['ABCD', 'jfhg', 'irpr'])\n",
      "{1: 'ABCD', 2: 'jfhg', 3: 'irpr', 4: 'Azeezia'}\n",
      "None\n",
      "dict_items([(1, 'ABCD'), (2, 'jfhg'), (3, 'irpr'), (4, 'Azeezia')])\n"
     ]
    }
   ],
   "source": [
    "#write a program to take key and value as input from the user and add it to the dictionary if key is not present in dictionary otherwise print key already exits and p\n",
    "\n",
    "d={1:\"ABCD\",2:\"jfhg\",3:\"irpr\"}\n",
    "print(d)\n",
    "print(d.keys())\n",
    "print(d.items())\n",
    "print(d.values())\n",
    "d[4]=\"Azeezia\"\n",
    "print(d)\n",
    "print(d.get(6))\n",
    "print(d.items())\n",
    "\n",
    "\n"
   ]
  },
  {
   "cell_type": "code",
   "execution_count": 2,
   "id": "3281f256-5dbe-4669-903c-e87360f9d55c",
   "metadata": {},
   "outputs": [
    {
     "name": "stdout",
     "output_type": "stream",
     "text": [
      "['apple', 'mango', 'cherry', 'strawberry', 'kiwi', 'dragon fruit']\n",
      "strawberry\n",
      "there is no value in that index\n"
     ]
    }
   ],
   "source": [
    "a=[\"apple\",\"mango\",\"cherry\",\"strawberry\",\"kiwi\",\"dragon fruit\"]\n",
    "print(a)\n",
    "print(a[3])\n",
    "if (a!=7):\n",
    "    print(\"there is no value in that index\")\n",
    "    \n",
    "\n"
   ]
  },
  {
   "cell_type": "code",
   "execution_count": 1,
   "id": "30917214-575b-46bc-ac83-78e5a4294ae5",
   "metadata": {},
   "outputs": [
    {
     "name": "stdin",
     "output_type": "stream",
     "text": [
      "Enter the index: 6\n"
     ]
    },
    {
     "name": "stdout",
     "output_type": "stream",
     "text": [
      "there is no such index\n"
     ]
    }
   ],
   "source": [
    "a=[1,2,3,4,5]\n",
    "i=int(input(\"Enter the index:\"))\n",
    "try:\n",
    " print(a[i])\n",
    "except:\n",
    " print(\"there is no such index\")"
   ]
  },
  {
   "cell_type": "markdown",
   "id": "d2e8315a-18b9-4e1f-afa7-6321485a16b6",
   "metadata": {},
   "source": [
    "Home work\n",
    "write a python porogram to find the sum of all the elements in list and handel the case if it consists of non-numericry \n",
    "create a dictionary with student marks and cgpa\n",
    "write a program to "
   ]
  },
  {
   "cell_type": "code",
   "execution_count": 1,
   "id": "92eace43-e1f9-451d-a97d-eaa8920fee93",
   "metadata": {},
   "outputs": [
    {
     "name": "stdin",
     "output_type": "stream",
     "text": [
      " 5\n",
      " 2\n"
     ]
    },
    {
     "name": "stdout",
     "output_type": "stream",
     "text": [
      "some unknown Error found\n",
      "code Execution done\n"
     ]
    }
   ],
   "source": [
    "try:\n",
    "    a=input()\n",
    "    b=input()\n",
    "    c=int(a)+int(b)\n",
    "    x=\"hello\"/3\n",
    "except ValueError:\n",
    "    print(\"Value unable to convert\")\n",
    "except ZeroDivisionError:\n",
    "    print(\"Can't Divide by Zero\")\n",
    "except :\n",
    "    print(\"some unknown Error found\")\n",
    "else:\n",
    "    print(\"No Error\")\n",
    "finally:\n",
    "    print(\"code Execution done\")\n",
    "    "
   ]
  },
  {
   "cell_type": "code",
   "execution_count": 4,
   "id": "d2081db1-e394-457e-8af4-36289f48259c",
   "metadata": {},
   "outputs": [
    {
     "name": "stdin",
     "output_type": "stream",
     "text": [
      " 5\n",
      " 0\n"
     ]
    },
    {
     "name": "stdout",
     "output_type": "stream",
     "text": [
      "Can't Divide by Zero\n",
      "code Execution done\n"
     ]
    }
   ],
   "source": [
    "try:\n",
    "    a=input()\n",
    "    b=input()\n",
    "    c=int(a)/int(b)\n",
    "except ValueError:\n",
    "    print(\"Data Type Issue\")\n",
    "except ZeroDivisionError:\n",
    "    print(\"Can't Divide by Zero\")\n",
    "except :\n",
    "    print(\"some unknown Error found\")\n",
    "else:\n",
    "    print(\"No Error\")\n",
    "finally:\n",
    "    print(\"code Execution done\")"
   ]
  },
  {
   "cell_type": "code",
   "execution_count": 3,
   "id": "9088616c-8eb1-4078-9cf0-27045fd7c9c7",
   "metadata": {},
   "outputs": [
    {
     "name": "stdout",
     "output_type": "stream",
     "text": [
      "Can't Divide by Zero\n",
      "code Execution done\n"
     ]
    }
   ],
   "source": [
    "try:\n",
    "    c=10/0\n",
    "except ValueError:\n",
    "    print(\"Data Type Issue\")\n",
    "except ZeroDivisionError:\n",
    "    print(\"Can't Divide by Zero\")\n",
    "except :\n",
    "    print(\"some unknown Error found\")\n",
    "else:\n",
    "    print(\"No Error\")\n",
    "finally:\n",
    "    print(\"code Execution done\")"
   ]
  },
  {
   "cell_type": "code",
   "execution_count": 1,
   "id": "4e15d0af-6200-497d-97fa-b32fa1b12bdd",
   "metadata": {},
   "outputs": [
    {
     "name": "stdout",
     "output_type": "stream",
     "text": [
      "Ignoring non-numeric value: a\n",
      "Ignoring non-numeric value: b\n",
      "Sum of list elements: 15\n"
     ]
    }
   ],
   "source": [
    "def list_sum(lst):\n",
    "    total = 0\n",
    "    for item in lst:\n",
    "        if isinstance(item, (int, float)):\n",
    "            total += item\n",
    "        else:\n",
    "            print(f\"Ignoring non-numeric value: {item}\")\n",
    "    return total\n",
    "\n",
    "my_list = [1, 2, 3, 'a', 4, 5, 'b']\n",
    "print(\"Sum of list elements:\", list_sum(my_list))"
   ]
  },
  {
   "cell_type": "code",
   "execution_count": 2,
   "id": "ece818aa-1f44-44ce-a7b4-d8225e7169fe",
   "metadata": {},
   "outputs": [
    {
     "name": "stdout",
     "output_type": "stream",
     "text": [
      "Average grade: 87.2\n"
     ]
    }
   ],
   "source": [
    "def calculate_average_grade(student_grades):\n",
    "    if not student_grades:\n",
    "        print(\"No grades available.\")\n",
    "        return None\n",
    "\n",
    "    total_grades = sum(student_grades.values())\n",
    "    average_grade = total_grades / len(student_grades)\n",
    "    return average_grade\n",
    "student_grades = {\n",
    "    \"Alia\": 85,\n",
    "    \"Sonu\": 90,\n",
    "    \"Sana\": 78,\n",
    "    \"Sami\": 95,\n",
    "    \"Anum\": 88\n",
    "}\n",
    "average = calculate_average_grade(student_grades)\n",
    "if average is not None:\n",
    "    print(\"Average grade:\",average)"
   ]
  },
  {
   "cell_type": "code",
   "execution_count": null,
   "id": "1305f2f4-7579-4a15-ab09-371905f18b66",
   "metadata": {},
   "outputs": [],
   "source": []
  }
 ],
 "metadata": {
  "kernelspec": {
   "display_name": "Python 3 (ipykernel)",
   "language": "python",
   "name": "python3"
  },
  "language_info": {
   "codemirror_mode": {
    "name": "ipython",
    "version": 3
   },
   "file_extension": ".py",
   "mimetype": "text/x-python",
   "name": "python",
   "nbconvert_exporter": "python",
   "pygments_lexer": "ipython3",
   "version": "3.12.3"
  }
 },
 "nbformat": 4,
 "nbformat_minor": 5
}
