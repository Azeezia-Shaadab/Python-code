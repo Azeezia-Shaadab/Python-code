{
 "cells": [
  {
   "cell_type": "code",
   "execution_count": 1,
   "id": "e408cbd6-6af9-42b3-b3e5-8d6883df8c7f",
   "metadata": {},
   "outputs": [
    {
     "name": "stdout",
     "output_type": "stream",
     "text": [
      "Original string: Hello, World!\n",
      "Reversed string: !dlroW ,olleH\n"
     ]
    }
   ],
   "source": [
    "def reverse_string_using_stack(input_string):\n",
    "    stack = []\n",
    "    # Push each character onto the stack\n",
    "    for char in input_string:\n",
    "        stack.append(char)\n",
    "    \n",
    "    # Pop characters from the stack to form the reversed string\n",
    "    reversed_string = \"\"\n",
    "    while stack:\n",
    "        reversed_string += stack.pop()\n",
    "    \n",
    "    return reversed_string\n",
    "\n",
    "# Example usage\n",
    "input_string = \"Hello, World!\"\n",
    "reversed_result = reverse_string_using_stack(input_string)\n",
    "print(f\"Original string: {input_string}\")\n",
    "print(f\"Reversed string: {reversed_result}\")"
   ]
  },
  {
   "cell_type": "code",
   "execution_count": 2,
   "id": "6582ad0d-e290-4856-b5dd-c7cc5da19df0",
   "metadata": {},
   "outputs": [
    {
     "name": "stdin",
     "output_type": "stream",
     "text": [
      " this is a car\n"
     ]
    },
    {
     "name": "stdout",
     "output_type": "stream",
     "text": [
      "rac a si siht"
     ]
    }
   ],
   "source": [
    "a=input()\n",
    "s=[]\n",
    "for e in a:\n",
    "    s.append(e)\n",
    "\n",
    "while len(s)>0:\n",
    "    print(s.pop(),end=\"\")"
   ]
  },
  {
   "cell_type": "markdown",
   "id": "7ef3b75f-3d4c-4510-9534-8cb3356dba10",
   "metadata": {},
   "source": [
    "Infix to posfix evaluation rules: 1.if its operator push into the stack. 2.if others push into the stack 2.if its operand send it to postfix list 3.if the operator having highest precedence then pop and push the operator\n",
    "\n"
   ]
  },
  {
   "cell_type": "code",
   "execution_count": 3,
   "id": "61051889-7800-44b6-8db9-fc76c03ea46c",
   "metadata": {},
   "outputs": [
    {
     "name": "stdout",
     "output_type": "stream",
     "text": [
      "abcd^e-fgh*+^*+i-\n"
     ]
    }
   ],
   "source": [
    "def prec(c):\n",
    "    if c == '^':\n",
    "        return 3\n",
    "    elif c == '/' or c == '*':\n",
    "        return 2\n",
    "    elif c == '+' or c == '-':\n",
    "        return 1\n",
    "    else:\n",
    "        return -1\n",
    " \n",
    "def associativity(c):\n",
    "    if c == '^':\n",
    "        return 'R'\n",
    "    return 'L'  \n",
    " \n",
    "def infix_to_postfix(s):\n",
    "    result = []\n",
    "    stack = []\n",
    " \n",
    "    for i in range(len(s)):\n",
    "        c = s[i]\n",
    " \n",
    "        \n",
    "        if ('a' <= c <= 'z') or ('A' <= c <= 'Z') or ('0' <= c <= '9'):\n",
    "            result.append(c)\n",
    "        \n",
    "        elif c == '(':\n",
    "            stack.append(c)\n",
    "        \n",
    "        \n",
    "        elif c == ')':\n",
    "            while stack and stack[-1] != '(':\n",
    "                result.append(stack.pop())\n",
    "            stack.pop()  # Pop '('\n",
    "        # If an operator is scanned\n",
    "        else:\n",
    "            while stack and (prec(s[i]) < prec(stack[-1]) or\n",
    "                             (prec(s[i]) == prec(stack[-1]) and associativity(s[i]) == 'L')):\n",
    "                result.append(stack.pop())\n",
    "            stack.append(c)\n",
    " \n",
    "    # Pop all the remaining elements from the stack\n",
    "    while stack:\n",
    "        result.append(stack.pop())\n",
    " \n",
    "    print(''.join(result))\n",
    " \n",
    "# Driver code\n",
    "exp = \"a+b*(c^d-e)^(f+g*h)-i\"\n",
    " \n",
    "# Function call\n",
    "infix_to_postfix(exp)\n"
   ]
  },
  {
   "cell_type": "code",
   "execution_count": 4,
   "id": "327869ce-0353-4e08-9f16-e8764ce7f196",
   "metadata": {},
   "outputs": [
    {
     "name": "stdin",
     "output_type": "stream",
     "text": [
      " a+b\n"
     ]
    },
    {
     "name": "stdout",
     "output_type": "stream",
     "text": [
      " ab\n"
     ]
    }
   ],
   "source": [
    "def prec(e):\n",
    "    if e ==\"^\":\n",
    "        return 3\n",
    "    elif e == \"*\" or e ==\"/\":\n",
    "        return 2\n",
    "    elif e == \"+\" or e ==\"-\":\n",
    "        return 1\n",
    "exp = input()\n",
    "S=[]\n",
    "result=\" \"\n",
    "for e in exp:\n",
    "    if e.isalnum():\n",
    "        result +=e\n",
    "    elif e =='(':\n",
    "        S.append(e)\n",
    "    elif e ==')':\n",
    "        while S[-1] != '(':\n",
    "            result += s.pop()\n",
    "            s.pop()\n",
    "    else:\n",
    "        while S and (prec(e)<prec(S[-1]) or\n",
    "                     (prec(e)==prec(S[-1]) and asoc(e)=='L')):\n",
    "            result +=S.pop()\n",
    "            S.append(e)\n",
    "while S:\n",
    "    result += S.pop()\n",
    "\n",
    "print(result)\n",
    "\n"
   ]
  },
  {
   "cell_type": "code",
   "execution_count": 5,
   "id": "80a27efb-6146-43d1-8957-159d2740241c",
   "metadata": {},
   "outputs": [
    {
     "name": "stdin",
     "output_type": "stream",
     "text": [
      " A D C R R A A D R D C C\n"
     ]
    },
    {
     "name": "stdout",
     "output_type": "stream",
     "text": [
      "['A', 'D', 'C', 'R', 'R', 'A', 'A', 'D', 'R', 'D', 'C', 'C']\n",
      "6 ['A', 'D', 'C', 'D', 'R', 'D']\n"
     ]
    }
   ],
   "source": [
    "a =[item for item in input().split()]\n",
    "print (a)\n",
    "s=[]\n",
    "for item in a:\n",
    "    if not s:\n",
    "        s.append(item)\n",
    "    elif s[-1] == item:\n",
    "        s.pop()\n",
    "    else:\n",
    "        s.append(item)\n",
    "print(len(s),s)"
   ]
  },
  {
   "cell_type": "code",
   "execution_count": 9,
   "id": "f5bcc0a7-d350-4fbf-b6e8-acaec24f97f6",
   "metadata": {},
   "outputs": [
    {
     "name": "stdout",
     "output_type": "stream",
     "text": [
      "[{'This is a string'}]\n",
      "String is valid\n"
     ]
    }
   ],
   "source": [
    "# to check the balanced braces is valid or invalid\n",
    "a=[{(\"This is a string\")}]\n",
    "print(a)\n",
    "if a==[{(\"This is a string\")}]:\n",
    "    print(\"String is valid\")\n",
    "else:\n",
    "    print(\"String is invalid\")"
   ]
  },
  {
   "cell_type": "code",
   "execution_count": 2,
   "id": "8ab1aafa-2263-46fb-8eb7-8fa64d1e229a",
   "metadata": {},
   "outputs": [
    {
     "name": "stdin",
     "output_type": "stream",
     "text": [
      " []{}\n"
     ]
    },
    {
     "name": "stdout",
     "output_type": "stream",
     "text": [
      "Valid\n"
     ]
    }
   ],
   "source": [
    "S=input()\n",
    "S=[]\n",
    "try:\n",
    "    print(\"valid\")\n",
    "except:\n",
    "for e in S:\n",
    "    print(s)\n",
    "    if e =='(' or e ==\"{\" or e ==\"[\":\n",
    "        s.append(e)\n",
    "    elif (e ==')' and S[-1]=='(') or (e =='}' and S[-1] =='{') or (e == '['):\n",
    "        S.pop()\n",
    "    else:\n",
    "        continue\n",
    "if not S:\n",
    "    print(\"Valid\")\n",
    "else:\n",
    "    print(\"invalid\")"
   ]
  },
  {
   "cell_type": "code",
   "execution_count": null,
   "id": "d0e19bc6-0a92-45c9-b100-c6597133357f",
   "metadata": {},
   "outputs": [],
   "source": []
  }
 ],
 "metadata": {
  "kernelspec": {
   "display_name": "Python 3 (ipykernel)",
   "language": "python",
   "name": "python3"
  },
  "language_info": {
   "codemirror_mode": {
    "name": "ipython",
    "version": 3
   },
   "file_extension": ".py",
   "mimetype": "text/x-python",
   "name": "python",
   "nbconvert_exporter": "python",
   "pygments_lexer": "ipython3",
   "version": "3.12.3"
  }
 },
 "nbformat": 4,
 "nbformat_minor": 5
}
