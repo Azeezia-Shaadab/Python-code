{
 "cells": [
  {
   "cell_type": "code",
   "execution_count": 13,
   "id": "797f77a9-8029-4957-b205-a1090617800e",
   "metadata": {},
   "outputs": [
    {
     "name": "stdout",
     "output_type": "stream",
     "text": [
      "19\n"
     ]
    }
   ],
   "source": [
    "# Find the Maximum sum of any 3 conscutive elements of this array.\n",
    "\n",
    "L=[2,4,6,1,3,7,4,6,9,3,6,8,3,6,4,1,3,9,6,4,5,6,8,3,7,3,6,8]\n",
    "max = 0\n",
    "for x in range(0,len(L)-2):\n",
    "    sum = L[x]+L[x+1]+L[x+2]\n",
    "    if(max<sum):\n",
    "        max=sum\n",
    "\n",
    "print(max)"
   ]
  },
  {
   "cell_type": "code",
   "execution_count": 3,
   "id": "e326fe89-84c1-4352-8552-bdb69d374d48",
   "metadata": {},
   "outputs": [
    {
     "ename": "SyntaxError",
     "evalue": "invalid syntax (4051849604.py, line 8)",
     "output_type": "error",
     "traceback": [
      "\u001b[1;36m  Cell \u001b[1;32mIn[3], line 8\u001b[1;36m\u001b[0m\n\u001b[1;33m    sum = L[x]+L[x+1]+L[x+2]+L[x+3]+L[x+4]+L[x+5]L[x+6]L[x+7]L[x+8]L[x+9]L[x+10]\u001b[0m\n\u001b[1;37m                                                 ^\u001b[0m\n\u001b[1;31mSyntaxError\u001b[0m\u001b[1;31m:\u001b[0m invalid syntax\n"
     ]
    }
   ],
   "source": [
    "L=[2,4,6,1,3,7,4,6,9,3,6,8,3,6,4,1,3,9,6,4,5,6,8,3,7,3,6,8,2,4,6,1,3,7,4,6,9,3,6,8,3,6,9,3,6,8,3,6,4,1,3,9,6,4,5,6,8,3,1,3,7,4,6,9,3,6,8,3,6,4,1,3,9\n",
    ",6,8,2,4,6,1,3,7,4,6,9,3,6,8,3,6,9,3,6,8,6,8,2,4,6,1,3,7,4,6,9,3,6,8,3,6,9,3,6,8,6,9,3,6,8,3,6,9,3,6,8,6,8,2,4,6,1,3,7,4,6,9,6,9,3,6,8,3,6,9,3,6,\n",
    "6,9,3,6,8,3,6,9,3]\n",
    "\n",
    "max = 0\n",
    "con=int(input(\"enter consecutive number:\"))\n",
    "for x in range(0,len(L)-10):\n",
    "    sum = L[x]+L[x+1]+L[x+2]+L[x+3]+L[x+4]+L[x+5]L[x+6]L[x+7]L[x+8]L[x+9]L[x+10]\n",
    "    if(max<sum):\n",
    "        max=sum\n",
    "\n",
    "print(max)\n"
   ]
  },
  {
   "cell_type": "code",
   "execution_count": 4,
   "id": "69a59654-997b-40c9-954f-227190cabbe4",
   "metadata": {},
   "outputs": [
    {
     "name": "stdin",
     "output_type": "stream",
     "text": [
      "Enter consecutive number: 4\n"
     ]
    },
    {
     "name": "stdout",
     "output_type": "stream",
     "text": [
      "27\n"
     ]
    }
   ],
   "source": [
    "L=[2,4,6,1,3,7,4,6,9,3,6,8,3,6,4,1,3,9,6,4,5,6,8,3,7,3,6,8,\n",
    "   2,4,6,1,3,7,4,6,9,3,6,8,3,6,4,1,3,9,6,4,5,6,8,3,7,3,6,8,\n",
    "   9,3,6,8,3,6,4,1,3,9,6,4,5,6,8,3,7,3,6,8,2,4,6,1,3,7,4,6,\n",
    "    9,3,6,8,3,6,4,1,8,6,5,8,4,3,9,7,6,3,9,7,6,5,4,9,7,5,4,]\n",
    "\n",
    "\n",
    "max = 0\n",
    "con=int(input(\"Enter consecutive number:\"))\n",
    "for x in range(0,len(L)-con):\n",
    "    s=0\n",
    "    for j in range(0,con):\n",
    "        s=s+L[x+j]\n",
    "    if(max<s):\n",
    "        max=s\n",
    "\n",
    "print(max)"
   ]
  },
  {
   "cell_type": "code",
   "execution_count": null,
   "id": "27d95111-71f6-4e46-b0dd-592bbd225f48",
   "metadata": {},
   "outputs": [],
   "source": [
    "L=[2,4,6,8,9,5,7,1]\n",
    "def bubblesort():\n",
    "    if arr[i]\n",
    "    for i in range(n)\n",
    "    for j in range(0, n-i-1):\n",
    "        if L[j] >L[j+1]:\n",
    "            L[j], L[j+1]\n",
    "    \n"
   ]
  },
  {
   "cell_type": "code",
   "execution_count": 1,
   "id": "7d9dc24d-c594-4827-a134-3a27d2fba97d",
   "metadata": {},
   "outputs": [
    {
     "name": "stdout",
     "output_type": "stream",
     "text": [
      "[3, 5, 6, 7, 8, 9]\n"
     ]
    }
   ],
   "source": [
    "my_list=[3,5,6,7,8,9]\n",
    "my_list.sort()\n",
    "print(my_list)"
   ]
  },
  {
   "cell_type": "code",
   "execution_count": 2,
   "id": "2a6a1f3f-e11d-4d7a-b5fc-bae7ab252e29",
   "metadata": {},
   "outputs": [
    {
     "name": "stdout",
     "output_type": "stream",
     "text": [
      "[2, 3, 4, 5, 7, 9]\n"
     ]
    }
   ],
   "source": [
    "#BUBBLE SORT\n",
    "my_list=[3,5,2,7,4,9]\n",
    "my_list.sort()\n",
    "print(my_list)"
   ]
  },
  {
   "cell_type": "code",
   "execution_count": 1,
   "id": "f549edb7-f15e-418a-b9c4-7be14430e07c",
   "metadata": {},
   "outputs": [
    {
     "name": "stdout",
     "output_type": "stream",
     "text": [
      "Sorted array: [5, 11, 12, 22, 25, 34, 64, 90]\n"
     ]
    }
   ],
   "source": [
    "my_array = [64,34,25,12,22,11,90,5]\n",
    "\n",
    "n = len(my_array)\n",
    "for i in range(n-1):\n",
    "    for j in range(n-i-1):\n",
    "        if my_array[j] > my_array[j+1]:\n",
    "            my_array[j], my_array[j+1] = my_array[j+1],my_array[j]\n",
    "\n",
    "print(\"Sorted array:\",my_array)"
   ]
  },
  {
   "cell_type": "code",
   "execution_count": 2,
   "id": "9dd63aa7-1f14-4fca-9a56-b664f2d3ebe8",
   "metadata": {},
   "outputs": [
    {
     "name": "stdout",
     "output_type": "stream",
     "text": [
      "[1, 4, 5, 6, 7, 8, 9]\n"
     ]
    }
   ],
   "source": [
    "arr=[5,4,8,1,9,6,7]\n",
    "for i in range(0,len(arr)):\n",
    "    for j in range(0,len(arr)-1):\n",
    "        if arr[j] > arr[j+1]:\n",
    "            temp=arr[j]\n",
    "            arr[j]=arr[j+1]\n",
    "            arr[j+1]=temp\n",
    "\n",
    "print(arr)\n",
    "    "
   ]
  },
  {
   "cell_type": "code",
   "execution_count": 5,
   "id": "699e6ee9-749f-47f1-a7ec-2b0cc88f2fce",
   "metadata": {},
   "outputs": [
    {
     "name": "stdout",
     "output_type": "stream",
     "text": [
      "[1, 4, 5, 6, 7, 8, 9]\n"
     ]
    }
   ],
   "source": [
    "# insertion sort\n",
    "arr=[5,4,8,1,9,6,7]\n",
    "for i in range(1,len(arr)):\n",
    "    temp=arr[i]\n",
    "    j=i-1\n",
    "    while j>=0 and temp < arr[j]:\n",
    "        arr[j+1] =arr[j]\n",
    "        j -=1\n",
    "    arr[j+1] = temp\n",
    "print(arr)    \n",
    "    "
   ]
  },
  {
   "cell_type": "markdown",
   "id": "a3924456-d464-4409-b74a-e61896cbf405",
   "metadata": {},
   "source": [
    "5,4,8,1,9,6,7]\n",
    "i=0        j=0\n",
    "i=1\n",
    "i=2\n",
    "i=3\n",
    "i=4\n",
    "i=5"
   ]
  },
  {
   "cell_type": "code",
   "execution_count": 6,
   "id": "0b3e40e6-be8a-426a-89fc-192a89c07f35",
   "metadata": {},
   "outputs": [
    {
     "name": "stdout",
     "output_type": "stream",
     "text": [
      "[1, 4, 5, 6, 7, 8, 9]\n"
     ]
    }
   ],
   "source": [
    "#selection sort\n",
    "arr=[5,4,8,1,9,6,7]\n",
    "\n",
    "for i in range(0,len(arr)):\n",
    "    min_idx=i\n",
    "    for j in range(i+1,len(arr)):\n",
    "        if arr[min_idx]>arr[j]:\n",
    "            min_idx=j\n",
    "    temp=arr[i]\n",
    "    arr[i]=arr[min_idx]\n",
    "    arr[min_idx]=temp\n",
    "\n",
    "print(arr)"
   ]
  },
  {
   "cell_type": "code",
   "execution_count": null,
   "id": "60ed13ad-46fd-4289-b387-54934aa70459",
   "metadata": {},
   "outputs": [],
   "source": []
  }
 ],
 "metadata": {
  "kernelspec": {
   "display_name": "Python 3 (ipykernel)",
   "language": "python",
   "name": "python3"
  },
  "language_info": {
   "codemirror_mode": {
    "name": "ipython",
    "version": 3
   },
   "file_extension": ".py",
   "mimetype": "text/x-python",
   "name": "python",
   "nbconvert_exporter": "python",
   "pygments_lexer": "ipython3",
   "version": "3.12.3"
  }
 },
 "nbformat": 4,
 "nbformat_minor": 5
}
