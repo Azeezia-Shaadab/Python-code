{
 "cells": [
  {
   "cell_type": "code",
   "execution_count": 15,
   "id": "bb2dfee2-ed82-43a2-b1d0-94db30f58877",
   "metadata": {},
   "outputs": [
    {
     "name": "stdout",
     "output_type": "stream",
     "text": [
      "configuration of vehicle is:\n",
      "processor piston\n",
      "regplate 9945\n",
      "price 20000\n",
      "configuration of car is:\n",
      "type BMW\n",
      "noofpassenger 4\n",
      "maxspeed 250kmph\n",
      "configuration of truck is:\n",
      "noofaxle 10\n",
      "loadcapacity 10000\n"
     ]
    }
   ],
   "source": [
    "class vehicle:\n",
    "    def __init__(self,ec,rp,p,c):\n",
    "        self.engine=ec\n",
    "        self.regplate=rp\n",
    "        self.price=p\n",
    "        self.colour=c\n",
    "    \n",
    "    def config(self):\n",
    "        print(\"configuration of vehicle is:\")\n",
    "        print(\"processor\",self.engine)\n",
    "        print(\"regplate\",self.regplate)\n",
    "        print(\"price\",self.price)\n",
    "\n",
    "if __name__==\"__main__\":\n",
    "    a=vehicle(\"piston\",9945,20000,\"purple\")\n",
    "    a.config()\n",
    "\n",
    "class car:\n",
    "    def __init__(self,t,n,m):\n",
    "        self.type=t\n",
    "        self.noofpassenger=n\n",
    "        self.maxspeed=m\n",
    "\n",
    "    def config(self):\n",
    "        print(\"configuration of car is:\")\n",
    "        print(\"type\",self.type)\n",
    "        print(\"noofpassenger\",self.noofpassenger)\n",
    "        print(\"maxspeed\",self.maxspeed)\n",
    "\n",
    "if __name__==\"__main__\":\n",
    "    a=car(\"BMW\",4,\"250kmph\")\n",
    "    a.config()\n",
    "\n",
    "class truck:\n",
    "    def __init__(self,n,l):\n",
    "        self.noofaxle=n\n",
    "        self.loadcapacity=l\n",
    "\n",
    "    def config(self):\n",
    "        print(\"configuration of truck is:\")\n",
    "        print(\"noofaxle\",self.noofaxle)\n",
    "        print(\"loadcapacity\",self.loadcapacity)\n",
    "\n",
    "if __name__==\"__main__\":\n",
    "    a=truck(10,10000)\n",
    "    a.config()\n",
    "\n",
    "\n",
    "        \n",
    "\n"
   ]
  },
  {
   "cell_type": "code",
   "execution_count": 13,
   "id": "a97cdb3f-3c67-4ae1-8582-f402ceb5166a",
   "metadata": {},
   "outputs": [
    {
     "name": "stdout",
     "output_type": "stream",
     "text": [
      "The detail of employee are:\n",
      "epid 412\n",
      "epname Azeezia\n",
      "epsalary 30000\n",
      "The details of staff is:\n",
      "worktype lectural\n",
      "workarea BITM\n",
      "The data of developer is:\n",
      "module database\n",
      "tech sql\n",
      "experince 1\n",
      "The manager details is:\n",
      "project library management system\n",
      "clientname Azeezia\n"
     ]
    }
   ],
   "source": [
    "class employee:\n",
    "    def __init__(self,ei,en,es):\n",
    "        self.epid=ei\n",
    "        self.epname=en\n",
    "        self.epsalary=es\n",
    "\n",
    "    def config(self):\n",
    "        print(\"The detail of employee are:\")\n",
    "        print(\"epid\",self.epid)\n",
    "        print(\"epname\",self.epname)\n",
    "        print(\"epsalary\",self.epsalary)\n",
    "\n",
    "if __name__==\"__main__\":\n",
    "    a=employee(412,\"Azeezia\",30000)\n",
    "    a.config()\n",
    "\n",
    "class staff:\n",
    "    def __init__(self,wt,wa):\n",
    "        self.worktype=wt\n",
    "        self.workarea=wa\n",
    "        \n",
    "    def config(self):\n",
    "        print(\"The details of staff is:\")\n",
    "        print(\"worktype\",self.worktype)\n",
    "        print(\"workarea\",self.workarea)\n",
    "\n",
    "if __name__==\"__main__\":\n",
    "    a=staff(\"lectural\",\"BITM\")\n",
    "    a.config()\n",
    "\n",
    "class developer:\n",
    "    def __init__(self,m,t,e):\n",
    "        self.module=m\n",
    "        self.tech=t\n",
    "        self.experince=e\n",
    "        \n",
    "    def config(self):\n",
    "         print(\"The data of developer is:\")\n",
    "         print(\"module\",self.module)\n",
    "         print(\"tech\",self.tech)\n",
    "         print(\"experince\",self.experince)\n",
    "\n",
    "if __name__==\"__main__\":\n",
    "    a=developer(\"database\",\"sql\",1)\n",
    "    a.config()\n",
    "\n",
    "class manager:\n",
    "    def __init__(self,p,c):\n",
    "        self.project=p\n",
    "        self.clientname=c\n",
    "        \n",
    "    def config(self):\n",
    "         print(\"The manager details is:\")\n",
    "         print(\"project\",self.project)\n",
    "         print(\"clientname\",self.clientname)\n",
    "         \n",
    "\n",
    "if __name__==\"__main__\":\n",
    "    a=manager(\"library management system\",\"Azeezia\")\n",
    "    a.config()\n",
    "\n",
    "    "
   ]
  },
  {
   "cell_type": "code",
   "execution_count": 24,
   "id": "dddf812b-117d-4c7e-8ccd-d9094a0bfa56",
   "metadata": {},
   "outputs": [
    {
     "name": "stdout",
     "output_type": "stream",
     "text": [
      "* \n",
      "* * \n",
      "* * * \n",
      "* * * * \n",
      "* * * * * \n"
     ]
    }
   ],
   "source": [
    "def half_pyramid(n):\n",
    "    for i in range(1, n+1):\n",
    "        for j in range(1,i+1):\n",
    "            print(\"\",end=\" \")\n",
    "        print(\"\\r\")\n",
    "\n",
    "n=5\n",
    "half_pyramid(n)"
   ]
  },
  {
   "cell_type": "code",
   "execution_count": 25,
   "id": "0c40aae6-496e-4508-96dd-07b26e6172da",
   "metadata": {},
   "outputs": [
    {
     "name": "stdout",
     "output_type": "stream",
     "text": [
      "*\n",
      "**\n",
      "***\n",
      "****\n",
      "*****\n",
      "******\n",
      "*******\n",
      "********\n",
      "*********\n",
      "**********\n"
     ]
    }
   ],
   "source": [
    "for y in range(0,10):\n",
    "    for x  in range(0,y+1):\n",
    "        print(\"*\",end=\"\")\n",
    "    print()    "
   ]
  },
  {
   "cell_type": "code",
   "execution_count": 23,
   "id": "2eae0c7e-4547-4399-af6a-78424fca675e",
   "metadata": {},
   "outputs": [
    {
     "name": "stdout",
     "output_type": "stream",
     "text": [
      "*\n",
      "**\n",
      "***\n",
      "****\n",
      "*****\n"
     ]
    }
   ],
   "source": [
    "for i in range(0,n):\n",
    "    for j in range(0,n):\n",
    "        for j in range(0, i+1):\n",
    "            print(\"*\",end=\"\")\n",
    "            print()\n"
   ]
  },
  {
   "cell_type": "code",
   "execution_count": 33,
   "id": "ef16e60f-daad-43b8-ac08-6d01768a7a90",
   "metadata": {},
   "outputs": [
    {
     "name": "stdout",
     "output_type": "stream",
     "text": [
      "******\n",
      "******\n",
      "******\n",
      "******\n",
      "******\n",
      "******\n",
      "******\n"
     ]
    }
   ],
   "source": [
    "def half_pyramid(n):\n",
    "    for i in range(0+1,n):\n",
    "        for j in range(0,6):\n",
    "            print(\"*\",end=\"\")\n",
    "        print()\n",
    "\n",
    "n=8\n",
    "half_pyramid(n)"
   ]
  },
  {
   "cell_type": "code",
   "execution_count": 37,
   "id": "47e1122c-f1d0-4238-8d6a-b384176e978b",
   "metadata": {},
   "outputs": [
    {
     "name": "stdout",
     "output_type": "stream",
     "text": [
      "11111\n",
      "2222\n",
      "333\n",
      "44\n",
      "5\n"
     ]
    }
   ],
   "source": [
    "rows=5\n",
    "b=0\n",
    "for i in range(rows, 0, -1):\n",
    "    b += 1\n",
    "    for j in range(1,i+1):\n",
    "        print(b,end=\"\")\n",
    "    print(\"\\r\")\n"
   ]
  },
  {
   "cell_type": "code",
   "execution_count": 38,
   "id": "2e879c66-e446-4c17-a51e-4f0be4b1228c",
   "metadata": {},
   "outputs": [
    {
     "name": "stdout",
     "output_type": "stream",
     "text": [
      "12345\n",
      "1234\n",
      "123\n",
      "12\n"
     ]
    }
   ],
   "source": [
    "rows=5\n",
    "\n",
    "for i in range(rows, 1, -1):\n",
    "    \n",
    "    for j in range(1,i+1):\n",
    "        print(j,end='')\n",
    "    print(\"\\r\")"
   ]
  },
  {
   "cell_type": "code",
   "execution_count": 39,
   "id": "932441d8-b3f1-4cd2-b63a-54c8cdb9f619",
   "metadata": {},
   "outputs": [
    {
     "name": "stdout",
     "output_type": "stream",
     "text": [
      "        * \n",
      "      * * \n",
      "    * * * \n",
      "  * * * * \n",
      "* * * * * \n"
     ]
    }
   ],
   "source": [
    "# number of rows\n",
    "rows = 5\n",
    "k = 2 * rows - 2\n",
    "for i in range(0, rows):\n",
    "    # process each column\n",
    "    for j in range(0, k):\n",
    "        # print space in pyramid\n",
    "        print(end=\" \")\n",
    "    k = k - 2\n",
    "    for j in range(0, i + 1):\n",
    "        # display star\n",
    "        print(\"* \", end=\"\")\n",
    "    print(\"\")"
   ]
  },
  {
   "cell_type": "code",
   "execution_count": 40,
   "id": "854bc9d2-cb0f-4ace-a803-2cb85e8f0aac",
   "metadata": {},
   "outputs": [
    {
     "name": "stdout",
     "output_type": "stream",
     "text": [
      "* * * * *  \n",
      "* * * *  \n",
      "* * *  \n",
      "* *  \n",
      "*  \n",
      " \n"
     ]
    }
   ],
   "source": [
    "rows = 5\n",
    "for i in range(rows + 1, 0, -1):\n",
    "    # nested reverse loop\n",
    "    for j in range(0, i - 1):\n",
    "        # display star\n",
    "        print(\"*\", end=' ')\n",
    "    print(\" \")"
   ]
  },
  {
   "cell_type": "code",
   "execution_count": null,
   "id": "01fd3948-ffda-4bfb-bc82-01c0ca33141f",
   "metadata": {},
   "outputs": [],
   "source": [
    "\n",
    "for i in range(rows,i+1):\n",
    "    for j in range(0, i - 1):\n",
    "        # display star\n",
    "        print(\"*\", end=' ')\n",
    "    print(\" \")"
   ]
  },
  {
   "cell_type": "code",
   "execution_count": 41,
   "id": "b353dfcb-b3e8-4dbb-990e-d5dda14f0b57",
   "metadata": {},
   "outputs": [
    {
     "name": "stdout",
     "output_type": "stream",
     "text": [
      "        * \n",
      "       * * \n",
      "      * * * \n",
      "     * * * * \n",
      "    * * * * * \n",
      "   * * * * * * \n",
      "    * * * * * \n",
      "     * * * * \n",
      "      * * * \n",
      "       * * \n",
      "        * \n"
     ]
    }
   ],
   "source": [
    "rows = 5\n",
    "k = 2 * rows - 2\n",
    "for i in range(0, rows):\n",
    "    for j in range(0, k):\n",
    "        print(end=\" \")\n",
    "    k = k - 1\n",
    "    for j in range(0, i + 1):\n",
    "        print(\"* \", end=\"\")\n",
    "    print(\"\")\n",
    "    \n",
    "k = rows - 2\n",
    "\n",
    "for i in range(rows, -1, -1):\n",
    "    for j in range(k, 0, -1):\n",
    "        print(end=\" \")\n",
    "    k = k + 1\n",
    "    for j in range(0, i + 1):\n",
    "        print(\"* \", end=\"\")\n",
    "    print(\"\")"
   ]
  },
  {
   "cell_type": "code",
   "execution_count": 43,
   "id": "a3335f59-bba8-4e20-9871-b89138542ddd",
   "metadata": {},
   "outputs": [
    {
     "name": "stdout",
     "output_type": "stream",
     "text": [
      "* \n",
      "* * \n",
      "* * * \n",
      "* * * * \n",
      "* * * \n",
      "* * \n",
      "* \n",
      "\n"
     ]
    }
   ],
   "source": [
    "rows = 4\n",
    "for i in range(0, rows):\n",
    "    for j in range(0, i + 1):\n",
    "        print(\"*\", end=' ')\n",
    "    print(\"\\r\")\n",
    "\n",
    "for i in range(rows, 0, -1):\n",
    "    for j in range(0, i - 1):\n",
    "        print(\"*\", end=' ')\n",
    "    print(\"\\r\")"
   ]
  },
  {
   "cell_type": "code",
   "execution_count": 48,
   "id": "85a7b927-e0fe-4768-a11b-83e0ca39cc82",
   "metadata": {},
   "outputs": [
    {
     "name": "stdout",
     "output_type": "stream",
     "text": [
      "*******\n",
      "*     *\n",
      "*     *\n",
      "*     *\n",
      "*     *\n",
      "*     *\n",
      "*******\n"
     ]
    }
   ],
   "source": [
    "# hollow square pattern\n",
    "size = 7\n",
    "for i in range(size):\n",
    "    for j in range(size):\n",
    "        \n",
    "        if i == 0 or i == size - 1 or j == 0 or j == size - 1:\n",
    "            print('*', end='')\n",
    "        else:\n",
    "            print(' ', end='')\n",
    "    print()"
   ]
  },
  {
   "cell_type": "code",
   "execution_count": 49,
   "id": "fd43734d-b842-4902-abea-b00e3da9403c",
   "metadata": {},
   "outputs": [
    {
     "name": "stdout",
     "output_type": "stream",
     "text": [
      "    *\n",
      "   ***\n",
      "  *****\n",
      " *******\n",
      "*********\n"
     ]
    }
   ],
   "source": [
    "n = 5\n",
    "for i in range(1, n+1):\n",
    "    for j in range(n - i):\n",
    "        print(' ', end='')\n",
    "    for k in range(2 * i - 1):\n",
    "        print('*', end='')\n",
    "    print()"
   ]
  },
  {
   "cell_type": "code",
   "execution_count": 1,
   "id": "d590ea7d-87d3-4da3-b692-38125c4a1d5d",
   "metadata": {},
   "outputs": [
    {
     "ename": "NameError",
     "evalue": "name 'student' is not defined",
     "output_type": "error",
     "traceback": [
      "\u001b[1;31m---------------------------------------------------------------------------\u001b[0m",
      "\u001b[1;31mNameError\u001b[0m                                 Traceback (most recent call last)",
      "Cell \u001b[1;32mIn[1], line 14\u001b[0m\n\u001b[0;32m     11\u001b[0m         \u001b[38;5;28mprint\u001b[39m(\u001b[38;5;124m\"\u001b[39m\u001b[38;5;124mstumarks\u001b[39m\u001b[38;5;124m\"\u001b[39m,\u001b[38;5;28mself\u001b[39m\u001b[38;5;241m.\u001b[39mstumarks)\n\u001b[0;32m     13\u001b[0m \u001b[38;5;28;01mif\u001b[39;00m \u001b[38;5;18m__name__\u001b[39m\u001b[38;5;241m==\u001b[39m\u001b[38;5;124m\"\u001b[39m\u001b[38;5;124m__main__\u001b[39m\u001b[38;5;124m\"\u001b[39m:\n\u001b[1;32m---> 14\u001b[0m     a\u001b[38;5;241m=\u001b[39m\u001b[43mstudent\u001b[49m(\u001b[38;5;241m402\u001b[39m,\u001b[38;5;124m\"\u001b[39m\u001b[38;5;124mAzeezia\u001b[39m\u001b[38;5;124m\"\u001b[39m,\u001b[38;5;241m85\u001b[39m)\n\u001b[0;32m     15\u001b[0m     a\u001b[38;5;241m.\u001b[39mconfig()\n\u001b[0;32m     17\u001b[0m \u001b[38;5;28;01mclass\u001b[39;00m \u001b[38;5;21;01mstaff\u001b[39;00m:\n",
      "\u001b[1;31mNameError\u001b[0m: name 'student' is not defined"
     ]
    }
   ],
   "source": [
    "class students:\n",
    "    def __init__(self,si,sn,sm):\n",
    "        self.stuid=si\n",
    "        self.stuname=sn\n",
    "        self.stumarks=sm\n",
    "\n",
    "    def config(self):\n",
    "        print(\"The detail of students are:\")\n",
    "        print(\"stuid\",self.stuid)\n",
    "        print(\"stuname\",self.stuname)\n",
    "        print(\"stumarks\",self.stumarks)\n",
    "\n",
    "if __name__==\"__main__\":\n",
    "    a=student(402,\"Azeezia\",85)\n",
    "    a.config()\n",
    "\n",
    "class staff:\n",
    "    def __init__(self,wt,wa):\n",
    "        self.worktype=wt\n",
    "        self.workarea=wa\n",
    "        \n",
    "    def config(self):\n",
    "        print(\"The details of staff is:\")\n",
    "        print(\"worktype\",self.worktype)\n",
    "        print(\"workarea\",self.workarea)\n",
    "\n",
    "if __name__==\"__main__\":\n",
    "    a=staff(\"lectural\",\"BITM\")\n",
    "    a.config()\n",
    "\n",
    "class developer:\n",
    "    def __init__(self,m,t,e):\n",
    "        self.module=m\n",
    "        self.tech=t\n",
    "        self.experince=e\n",
    "        \n",
    "    def config(self):\n",
    "         print(\"The data of developer is:\")\n",
    "         print(\"module\",self.module)\n",
    "         print(\"tech\",self.tech)\n",
    "         print(\"experince\",self.experince)\n",
    "\n",
    "if __name__==\"__main__\":\n",
    "    a=developer(\"database\",\"sql\",1)\n",
    "    a.config()\n",
    "\n",
    "class manager:\n",
    "    def __init__(self,p,c):\n",
    "        self.project=p\n",
    "        self.clientname=c\n",
    "        \n",
    "    def config(self):\n",
    "         print(\"The manager details is:\")\n",
    "         print(\"project\",self.project)\n",
    "         print(\"clientname\",self.clientname)\n",
    "         \n",
    "\n",
    "if __name__==\"__main__\":\n",
    "    a=manager(\"library management system\",\"Azeezia\")\n",
    "    a.config()\n",
    "\n",
    "    "
   ]
  },
  {
   "cell_type": "code",
   "execution_count": null,
   "id": "48ec222e-9abb-4544-8b73-6c5a0e5c17a7",
   "metadata": {},
   "outputs": [],
   "source": []
  }
 ],
 "metadata": {
  "kernelspec": {
   "display_name": "Python 3 (ipykernel)",
   "language": "python",
   "name": "python3"
  },
  "language_info": {
   "codemirror_mode": {
    "name": "ipython",
    "version": 3
   },
   "file_extension": ".py",
   "mimetype": "text/x-python",
   "name": "python",
   "nbconvert_exporter": "python",
   "pygments_lexer": "ipython3",
   "version": "3.12.3"
  }
 },
 "nbformat": 4,
 "nbformat_minor": 5
}
