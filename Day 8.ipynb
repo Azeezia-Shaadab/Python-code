{
 "cells": [
  {
   "cell_type": "code",
   "execution_count": 1,
   "id": "1684525a-bde2-4965-a077-574d19d78769",
   "metadata": {},
   "outputs": [
    {
     "name": "stdout",
     "output_type": "stream",
     "text": [
      "[1, 4, 5, 6, 7, 8, 9]\n"
     ]
    }
   ],
   "source": [
    "# insertion sort\n",
    "arr=[5,4,8,1,9,6,7]\n",
    "for i in range(1,len(arr)):\n",
    "    temp=arr[i]\n",
    "    j=i-1\n",
    "    while j>=0 and temp < arr[j]:\n",
    "        arr[j+1] =arr[j]\n",
    "        j -=1\n",
    "    arr[j+1] = temp\n",
    "print(arr)    \n",
    "    "
   ]
  },
  {
   "cell_type": "code",
   "execution_count": 3,
   "id": "ab9114fb-ebe4-4673-954c-224d173215ff",
   "metadata": {},
   "outputs": [
    {
     "name": "stdout",
     "output_type": "stream",
     "text": [
      "[1, 4, 5, 6, 7, 8, 9]\n"
     ]
    }
   ],
   "source": [
    "#selection sort\n",
    "arr=[5,4,8,1,9,6,7]\n",
    "\n",
    "for i in range(0,len(arr)):\n",
    "    min_idx=i\n",
    "    for j in range(i+1,len(arr)):\n",
    "        if arr[min_idx]>arr[j]:\n",
    "            min_idx=j\n",
    "    temp=arr[i]\n",
    "    arr[i]=arr[min_idx]\n",
    "    arr[min_idx]=temp\n",
    "\n",
    "print(arr)"
   ]
  },
  {
   "cell_type": "code",
   "execution_count": 3,
   "id": "e29b2641-1192-4f8a-81f6-b2304202fc35",
   "metadata": {},
   "outputs": [
    {
     "name": "stdout",
     "output_type": "stream",
     "text": [
      "[23, 25, 33, 45, 54, 65, 67, 75, 78, 89, 98, 99]\n"
     ]
    },
    {
     "name": "stdin",
     "output_type": "stream",
     "text": [
      " 23\n"
     ]
    },
    {
     "name": "stdout",
     "output_type": "stream",
     "text": [
      "index of element is 0\n",
      "low 0 High 12 mid 6\n",
      "low 0 High 5 mid 2\n",
      "low 0 High 1 mid 0\n",
      "Element found at  0\n"
     ]
    }
   ],
   "source": [
    "# Binary search\n",
    "L=[23,25,45,33,54,99,65,75,67,78,98,89]\n",
    "L.sort()\n",
    "print(L)\n",
    "low = 0\n",
    "high = len(L)\n",
    "src=int(input())\n",
    "try:\n",
    "    print(\"index of element is\",L.index(src))\n",
    "except:\n",
    "    print(\"item not in list\")\n",
    "Flag=0\n",
    "while low<high:\n",
    "    mid=int(low+(high-low)/2)\n",
    "    print(\"low\",low,\"High\",high,\"mid\",mid)\n",
    "    if src<L[mid]:\n",
    "        high=mid-1\n",
    "    elif src>L[mid]:\n",
    "        low=mid+1\n",
    "    else:\n",
    "        Flag=1\n",
    "        break;\n",
    "\n",
    "if Flag==1:\n",
    "    print(\"Element found at \",mid)\n",
    "else:\n",
    "    print(\"element not found:\")\n",
    "    \n",
    "        "
   ]
  },
  {
   "cell_type": "code",
   "execution_count": 10,
   "id": "57caed1d-5f3f-464d-8811-b4ea22107382",
   "metadata": {},
   "outputs": [
    {
     "name": "stdout",
     "output_type": "stream",
     "text": [
      "abcde is a valid string.\n"
     ]
    }
   ],
   "source": [
    "def is_valid_string(s):\n",
    "    for i in range(1, len(s)):\n",
    "        if s[i] == s[i - 1]:\n",
    "            return False\n",
    "    return s.islower()\n",
    "\n",
    "\n",
    "input_string = \"abcde\"\n",
    "if is_valid_string(input_string):\n",
    "    print(f\"{input_string} is a valid string.\")\n",
    "else:\n",
    "    print(f\"{input_string} is not a valid string.\")"
   ]
  },
  {
   "cell_type": "code",
   "execution_count": 13,
   "id": "f207b311-0a23-4259-a103-f9a52be2b4f1",
   "metadata": {},
   "outputs": [
    {
     "name": "stdin",
     "output_type": "stream",
     "text": [
      " my name is)\n"
     ]
    },
    {
     "name": "stdout",
     "output_type": "stream",
     "text": [
      "Invalid String\n"
     ]
    }
   ],
   "source": [
    "#TO CHECK VALID STRING\n",
    "\n",
    "S=input()\n",
    "x=y=z=0\n",
    "for c in S:\n",
    "    match(c):\n",
    "        case '(':x+=1\n",
    "        case ')':x-=1\n",
    "        case '{':y+=1\n",
    "        case '}':y-=1\n",
    "        case '[':z+=1\n",
    "        case ']':z-=1\n",
    "        case _:continue\n",
    "\n",
    "if x+y+z == 0:\n",
    "    print(\"Valid String\")\n",
    "else:\n",
    "    print(\"Invalid String\")"
   ]
  },
  {
   "cell_type": "code",
   "execution_count": 21,
   "id": "e96f7326-e650-4064-a16d-afc6101c43a0",
   "metadata": {},
   "outputs": [
    {
     "name": "stdin",
     "output_type": "stream",
     "text": [
      "Enter the new value: 70\n"
     ]
    },
    {
     "name": "stdout",
     "output_type": "stream",
     "text": [
      "[10, 20, 30, 40, 50, 90, 70]\n"
     ]
    }
   ],
   "source": [
    "# ADDING NEW ELEMENT IN A STACK\n",
    "a=int(input(\"Enter the new value:\"))\n",
    "S=[10,20,30,40,50]\n",
    "S.append(90)\n",
    "S.append(70)\n",
    "print(S)"
   ]
  },
  {
   "cell_type": "code",
   "execution_count": 1,
   "id": "34376ce3-63e6-4cd9-a0a3-4d698137e4d8",
   "metadata": {},
   "outputs": [
    {
     "name": "stdin",
     "output_type": "stream",
     "text": [
      "Enter the new value: 80\n"
     ]
    },
    {
     "name": "stdout",
     "output_type": "stream",
     "text": [
      "[10, 20, 30, 40, 50, 90, 80]\n"
     ]
    },
    {
     "name": "stdin",
     "output_type": "stream",
     "text": [
      "Enter the remove value: 40\n"
     ]
    },
    {
     "name": "stdout",
     "output_type": "stream",
     "text": [
      "[10, 20, 30, 50, 90, 80]\n"
     ]
    }
   ],
   "source": [
    "a=int(input(\"Enter the new value:\"))\n",
    "S=[10,20,30,40,50]\n",
    "S.append(90)\n",
    "S.append(80)\n",
    "print(S)\n",
    "a=int(input(\"Enter the remove value:\"))\n",
    "S.remove(40)\n",
    "print(S)"
   ]
  },
  {
   "cell_type": "code",
   "execution_count": 8,
   "id": "cdc8eab5-e437-4f0a-b48d-dddaf52c036f",
   "metadata": {},
   "outputs": [
    {
     "name": "stdout",
     "output_type": "stream",
     "text": [
      "Item added to stack\n",
      "Item added to stack\n",
      "Item added to stack\n",
      "Item added to stack\n",
      "Item added to stack\n",
      "[2, 3, 4, 5, 9]\n",
      "Item removed from stack\n",
      "[2, 3, 4, 9]\n"
     ]
    }
   ],
   "source": [
    "#STACK\n",
    "\n",
    "def add(E):\n",
    "    s.append(E)\n",
    "    print(\"Item added to stack\")\n",
    "\n",
    "def delete(E):\n",
    "    s.pop(E)\n",
    "    print(\"Item removed from stack\")\n",
    "\n",
    "s=[]\n",
    "add(2)\n",
    "add(3)\n",
    "add(4)\n",
    "add(5)\n",
    "add(9)\n",
    "print(s)\n",
    "\n",
    "delete(3)\n",
    "print(s)\n"
   ]
  },
  {
   "cell_type": "code",
   "execution_count": 3,
   "id": "a8b7e940-31d5-473b-9976-ac9d8f754578",
   "metadata": {},
   "outputs": [
    {
     "name": "stdout",
     "output_type": "stream",
     "text": [
      "Original string: Hello, World!\n",
      "Reversed string: !dlroW ,olleH\n"
     ]
    }
   ],
   "source": [
    "def reverse_string_using_stack(input_string):\n",
    "    stack = []\n",
    "    # Push each character onto the stack\n",
    "    for char in input_string:\n",
    "        stack.append(char)\n",
    "    \n",
    "    # Pop characters from the stack to form the reversed string\n",
    "    reversed_string = \"\"\n",
    "    while stack:\n",
    "        reversed_string += stack.pop()\n",
    "    \n",
    "    return reversed_string\n",
    "\n",
    "# Example usage\n",
    "input_string = \"Hello, World!\"\n",
    "reversed_result = reverse_string_using_stack(input_string)\n",
    "print(f\"Original string: {input_string}\")\n",
    "print(f\"Reversed string: {reversed_result}\")"
   ]
  },
  {
   "cell_type": "code",
   "execution_count": 14,
   "id": "30415e8a-2c82-46b6-89b7-91d4b4e23ba2",
   "metadata": {},
   "outputs": [
    {
     "name": "stdin",
     "output_type": "stream",
     "text": [
      " this is a car\n"
     ]
    },
    {
     "name": "stdout",
     "output_type": "stream",
     "text": [
      "car a is this "
     ]
    }
   ],
   "source": [
    "a=input()\n",
    "s=[]\n",
    "for e in a.split():\n",
    "    s.append(e)\n",
    "\n",
    "while len(s)>0:\n",
    "    print(s.pop(),end=' ')"
   ]
  },
  {
   "cell_type": "markdown",
   "id": "f679f237-af85-4560-b063-4cc34226847a",
   "metadata": {},
   "source": [
    "Infix to posfix evaluation rules:\n",
    "1.if its operator push into the stack.\n",
    "2.if others push into the stack\n",
    "2.if its operand send it to postfix list\n",
    "3.if the operator having highest precedence then pop and push the operator\n"
   ]
  },
  {
   "cell_type": "code",
   "execution_count": 17,
   "id": "128d82d7-bcc9-4a89-bd24-fdebfa8f92c0",
   "metadata": {},
   "outputs": [
    {
     "name": "stdout",
     "output_type": "stream",
     "text": [
      "abcd^e-fgh*+^*+i-\n"
     ]
    }
   ],
   "source": [
    "def prec(c):\n",
    "    if c == '^':\n",
    "        return 3\n",
    "    elif c == '/' or c == '*':\n",
    "        return 2\n",
    "    elif c == '+' or c == '-':\n",
    "        return 1\n",
    "    else:\n",
    "        return -1\n",
    " \n",
    "def associativity(c):\n",
    "    if c == '^':\n",
    "        return 'R'\n",
    "    return 'L'  \n",
    " \n",
    "def infix_to_postfix(s):\n",
    "    result = []\n",
    "    stack = []\n",
    " \n",
    "    for i in range(len(s)):\n",
    "        c = s[i]\n",
    " \n",
    "        \n",
    "        if ('a' <= c <= 'z') or ('A' <= c <= 'Z') or ('0' <= c <= '9'):\n",
    "            result.append(c)\n",
    "        \n",
    "        elif c == '(':\n",
    "            stack.append(c)\n",
    "        \n",
    "        \n",
    "        elif c == ')':\n",
    "            while stack and stack[-1] != '(':\n",
    "                result.append(stack.pop())\n",
    "            stack.pop()  # Pop '('\n",
    "        # If an operator is scanned\n",
    "        else:\n",
    "            while stack and (prec(s[i]) < prec(stack[-1]) or\n",
    "                             (prec(s[i]) == prec(stack[-1]) and associativity(s[i]) == 'L')):\n",
    "                result.append(stack.pop())\n",
    "            stack.append(c)\n",
    " \n",
    "    # Pop all the remaining elements from the stack\n",
    "    while stack:\n",
    "        result.append(stack.pop())\n",
    " \n",
    "    print(''.join(result))\n",
    " \n",
    "# Driver code\n",
    "exp = \"a+b*(c^d-e)^(f+g*h)-i\"\n",
    " \n",
    "# Function call\n",
    "infix_to_postfix(exp)\n"
   ]
  },
  {
   "cell_type": "code",
   "execution_count": 1,
   "id": "ae5dd9f8-0338-4883-a287-509a2839a37a",
   "metadata": {},
   "outputs": [
    {
     "name": "stdin",
     "output_type": "stream",
     "text": [
      " a+b\n"
     ]
    },
    {
     "name": "stdout",
     "output_type": "stream",
     "text": [
      " ab\n"
     ]
    }
   ],
   "source": [
    "def prec(e):\n",
    "    if e ==\"^\":\n",
    "        return 3\n",
    "    elif e == \"*\" or e ==\"/\":\n",
    "        return 2\n",
    "    elif e == \"+\" or e ==\"-\":\n",
    "        return 1\n",
    "exp = input()\n",
    "S=[]\n",
    "result=\" \"\n",
    "for e in exp:\n",
    "    if e.isalnum():\n",
    "        result +=e\n",
    "    elif e =='(':\n",
    "        S.append(e)\n",
    "    elif e ==')':\n",
    "        while S[-1] != '(':\n",
    "            result += s.pop()\n",
    "            s.pop()\n",
    "    else:\n",
    "        while S and (prec(e)<prec(S[-1]) or\n",
    "                     (prec(e)==prec(S[-1]) and asoc(e)=='L')):\n",
    "            result +=S.pop()\n",
    "            S.append(e)\n",
    "while S:\n",
    "    result += S.pop()\n",
    "\n",
    "print(result)"
   ]
  },
  {
   "cell_type": "markdown",
   "id": "95073045-1dc8-43bd-88c4-6e08a2842690",
   "metadata": {},
   "source": [
    "In a arcade game, there is a king who got spelled by a witch that whenever he eat he have to take care of what is sequence of his food intake.\n",
    "If he eats similar food one after other it will cancel out the its effect and total energy was decreased. your task is to detrmine the total energy of the king his meal\n"
   ]
  },
  {
   "cell_type": "code",
   "execution_count": 1,
   "id": "aa6781b8-045a-4cf0-956e-4169f45fdc2c",
   "metadata": {},
   "outputs": [
    {
     "name": "stdin",
     "output_type": "stream",
     "text": [
      " A D C R R A A D R D C C\n"
     ]
    },
    {
     "name": "stdout",
     "output_type": "stream",
     "text": [
      "['A', 'D', 'C', 'R', 'R', 'A', 'A', 'D', 'R', 'D', 'C', 'C']\n",
      "6 ['A', 'D', 'C', 'D', 'R', 'D']\n"
     ]
    }
   ],
   "source": [
    "a =[item for item in input().split()]\n",
    "print (a)\n",
    "s=[]\n",
    "for item in a:\n",
    "    if not s:\n",
    "        s.append(item)\n",
    "    elif s[-1] == item:\n",
    "        s.pop()\n",
    "    else:\n",
    "        s.append(item)\n",
    "print(len(s),s)"
   ]
  },
  {
   "cell_type": "code",
   "execution_count": null,
   "id": "e7fcaf90-ff95-41ba-add5-a21908e14e1c",
   "metadata": {},
   "outputs": [],
   "source": []
  }
 ],
 "metadata": {
  "kernelspec": {
   "display_name": "Python 3 (ipykernel)",
   "language": "python",
   "name": "python3"
  },
  "language_info": {
   "codemirror_mode": {
    "name": "ipython",
    "version": 3
   },
   "file_extension": ".py",
   "mimetype": "text/x-python",
   "name": "python",
   "nbconvert_exporter": "python",
   "pygments_lexer": "ipython3",
   "version": "3.12.3"
  }
 },
 "nbformat": 4,
 "nbformat_minor": 5
}
