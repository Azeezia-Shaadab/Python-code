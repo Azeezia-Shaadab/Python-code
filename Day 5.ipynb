{
 "cells": [
  {
   "cell_type": "markdown",
   "id": "30193903-05ca-4cd0-8683-2bbb924a2cb4",
   "metadata": {},
   "source": [
    "OOPS CONCEPT"
   ]
  },
  {
   "cell_type": "code",
   "execution_count": 1,
   "id": "90ee2238-b394-450c-9756-054b98537cc3",
   "metadata": {},
   "outputs": [
    {
     "name": "stdout",
     "output_type": "stream",
     "text": [
      "<class 'int'>\n"
     ]
    }
   ],
   "source": [
    "a=5\n",
    "print(type(a))"
   ]
  },
  {
   "cell_type": "code",
   "execution_count": 5,
   "id": "5f458b51-6109-4f27-a970-548c36bc0147",
   "metadata": {},
   "outputs": [
    {
     "name": "stdout",
     "output_type": "stream",
     "text": [
      "This laptop have i5 8gm Ram 1TB SSD\n",
      "0\n"
     ]
    }
   ],
   "source": [
    "class laptop:\n",
    "    a=0\n",
    "    def config(self):\n",
    "        print(\"This laptop have i5 8gm Ram 1TB SSD\")\n",
    "\n",
    "hp = laptop()\n",
    "hp.config()\n",
    "print(hp.a)"
   ]
  },
  {
   "cell_type": "code",
   "execution_count": 11,
   "id": "ebdfdbb0-72e4-43e7-9d2f-f1c81ca1dd96",
   "metadata": {},
   "outputs": [
    {
     "ename": "SyntaxError",
     "evalue": "invalid syntax (242528384.py, line 6)",
     "output_type": "error",
     "traceback": [
      "\u001b[1;36m  Cell \u001b[1;32mIn[11], line 6\u001b[1;36m\u001b[0m\n\u001b[1;33m    def__init__(self,value):\u001b[0m\n\u001b[1;37m                           ^\u001b[0m\n\u001b[1;31mSyntaxError\u001b[0m\u001b[1;31m:\u001b[0m invalid syntax\n"
     ]
    }
   ],
   "source": [
    " class laptop:\n",
    "    a=0\n",
    "    def config(self):\n",
    "        print(\"This laptop have i5 8gm Ram 1TB SSD\")\n",
    "\n",
    "\n",
    "hp = laptop()\n",
    "dell = laptop()\n",
    "lenevo = laptop()\n",
    "\n",
    "\n"
   ]
  },
  {
   "cell_type": "markdown",
   "id": "185c82d6-ac2b-46c5-a3c4-0f56b3ba4864",
   "metadata": {},
   "source": [
    "Create a Laptop Class\n",
    "with variable as processor, Ram and storage\n",
    "\n",
    "create function to print the configuration of the laptops.\n",
    "\n",
    "create 3 object of laptop with different brand and display its configuration"
   ]
  },
  {
   "cell_type": "code",
   "execution_count": 17,
   "id": "ca865239-f0ea-44ee-af88-4500f81f0e80",
   "metadata": {},
   "outputs": [
    {
     "name": "stdout",
     "output_type": "stream",
     "text": [
      "configuration of the laptop is:\n",
      "Processor i5\n",
      "Ram 8\n",
      "Storage 512\n"
     ]
    }
   ],
   "source": [
    "class laptop:\n",
    "    def __init__(self,p,r,s):\n",
    "        self.processor=p\n",
    "        self.ram=r\n",
    "        self.storage=s\n",
    "        \n",
    "    def config(self):\n",
    "        print(\"configuration of the laptop is:\")\n",
    "        print(\"Processor\",self.processor)\n",
    "        print(\"Ram\",self.ram)\n",
    "        print(\"Storage\",self.storage)\n",
    "\n",
    "if __name__==\"__main__\":\n",
    "    hp=laptop(\"i5\",8,512)\n",
    "    hp.config()\n",
    "\n",
    "\n",
    "    \n",
    "\n"
   ]
  },
  {
   "cell_type": "code",
   "execution_count": 23,
   "id": "850b8023-8b06-4091-b6d6-91990193c044",
   "metadata": {},
   "outputs": [
    {
     "name": "stdout",
     "output_type": "stream",
     "text": [
      "The students marks is :\n",
      "dsa 80\n",
      "java 70\n",
      "dco 60\n",
      "rprogramming 90\n",
      "os 85\n"
     ]
    }
   ],
   "source": [
    "#create a class student in which can hold the marks in 5 subjects and also create a function to print the marks and calculate the avg of 5 subjects\n",
    "class student:\n",
    " \n",
    "    def __init__(self,d,j,c,r,o):\n",
    "        self.dsa=d\n",
    "        self.java=j\n",
    "        self.dco=c\n",
    "        self.rprogramming=r\n",
    "        self.os=o\n",
    "\n",
    "    def config(self):\n",
    "        print(\"The students marks is :\")\n",
    "        print(\"dsa\",self.dsa)\n",
    "        print(\"java\",self.java)\n",
    "        print(\"dco\",self.dco)\n",
    "        print(\"rprogramming\",self.rprogramming)\n",
    "        print(\"os\",self.os)\n",
    "\n",
    "if __name__==\"__main__\":\n",
    "    a=student(80,70,60,90,85)\n",
    "    a.config()\n",
    "\n",
    "\n",
    "\n",
    "    \n",
    "\n"
   ]
  },
  {
   "cell_type": "code",
   "execution_count": 25,
   "id": "69c6f2aa-dc46-4d8f-84c3-2419497f9d96",
   "metadata": {},
   "outputs": [
    {
     "ename": "NameError",
     "evalue": "name 'ob' is not defined",
     "output_type": "error",
     "traceback": [
      "\u001b[1;31m---------------------------------------------------------------------------\u001b[0m",
      "\u001b[1;31mNameError\u001b[0m                                 Traceback (most recent call last)",
      "Cell \u001b[1;32mIn[25], line 21\u001b[0m\n\u001b[0;32m     18\u001b[0m         \u001b[38;5;28mprint\u001b[39m(\u001b[38;5;28mself\u001b[39m\u001b[38;5;241m.\u001b[39m_y)\n\u001b[0;32m     20\u001b[0m ob1\u001b[38;5;241m=\u001b[39mdemo(\u001b[38;5;241m1\u001b[39m,\u001b[38;5;241m2\u001b[39m,\u001b[38;5;241m3\u001b[39m)\n\u001b[1;32m---> 21\u001b[0m \u001b[43mob\u001b[49m\u001b[38;5;241m.\u001b[39moutput_x()\n\u001b[0;32m     22\u001b[0m ob1\u001b[38;5;241m.\u001b[39moutput_y()\n\u001b[0;32m     23\u001b[0m ob1\u001b[38;5;241m.\u001b[39moutput_z()\n",
      "\u001b[1;31mNameError\u001b[0m: name 'ob' is not defined"
     ]
    }
   ],
   "source": [
    "#Acess Modufiers\n",
    "#Public normal\n",
    "#Private__\n",
    "\n",
    "class demo:\n",
    "    def __init__(self,a,b,c):\n",
    "        self.x=a\n",
    "        self._y=b\n",
    "        self.__z=c\n",
    "        \n",
    "    def output_z(self):\n",
    "        print(self.__z)\n",
    "        \n",
    "    def output_x(self):\n",
    "        print(self.x)\n",
    "        \n",
    "    def output_y(self):\n",
    "        print(self._y)\n",
    "\n",
    "ob1=demo(1,2,3)\n",
    "ob.output_x()\n",
    "ob1.output_y()\n",
    "ob1.output_z()\n"
   ]
  },
  {
   "cell_type": "code",
   "execution_count": 4,
   "id": "1c0f010c-3d4d-4610-888e-fe66e915afb3",
   "metadata": {},
   "outputs": [
    {
     "name": "stdout",
     "output_type": "stream",
     "text": [
      "constructor of class D\n"
     ]
    }
   ],
   "source": [
    "class a:\n",
    "    def __init__(self):\n",
    "        print(\"constructor of class A\")\n",
    "class b(a):\n",
    "    def __init__(self):\n",
    "        print(\"constructor of class B\")\n",
    "\n",
    "class c(a):\n",
    "    def __init__(self):\n",
    "        print(\"constructor of class C\")\n",
    "         \n",
    "class d(b,c):\n",
    "    def __init__(self):\n",
    "        print(\"constructor of class D\")\n",
    "\n",
    "if __name__==\"__main__\":\n",
    "    ob1=d()\n",
    "        \n",
    "     "
   ]
  },
  {
   "cell_type": "code",
   "execution_count": 5,
   "id": "8c31e306-8dde-4e03-988d-c83ff3da3521",
   "metadata": {},
   "outputs": [
    {
     "name": "stdout",
     "output_type": "stream",
     "text": [
      "This is fun1\n",
      "This is fun2\n",
      "This is fun3\n",
      "This is fun4\n",
      "This is fun5\n",
      "This is fun6\n"
     ]
    }
   ],
   "source": [
    "class a:\n",
    "    def fun1(self):\n",
    "        print(\"This is fun1\")\n",
    "    def fun2(self):\n",
    "        print(\"This is fun2\")\n",
    "class b:\n",
    "    def fun3(self):\n",
    "        print(\"This is fun3\")\n",
    "    def fun4(self):\n",
    "        print(\"This is fun4\")\n",
    "class c(b):\n",
    "    def fun5(self):\n",
    "        print(\"This is fun5\")\n",
    "    def fun6(self):\n",
    "        print(\"This is fun6\")\n",
    "\n",
    "if __name__==\"__main__\":\n",
    "    ob1=a()\n",
    "    ob2=b()\n",
    "    ob3=c()\n",
    "\n",
    "ob1.fun1()\n",
    "ob1.fun2()\n",
    "ob2.fun3()\n",
    "ob2.fun4()\n",
    "ob3.fun5()\n",
    "ob3.fun6()"
   ]
  },
  {
   "cell_type": "code",
   "execution_count": null,
   "id": "3a41eb9c-1f80-4144-86bc-75496347ac6a",
   "metadata": {},
   "outputs": [],
   "source": [
    "class c:\n",
    "    def __init__(self):\n",
    "        print(\"constructor of class C\")\n",
    "    def abc(self,a,b):\n",
    "        print(\"fun of class C with "
   ]
  },
  {
   "cell_type": "code",
   "execution_count": 6,
   "id": "fceae4d6-a93a-4e5f-80d2-1740bf157de3",
   "metadata": {},
   "outputs": [
    {
     "name": "stdout",
     "output_type": "stream",
     "text": [
      "configuration of the laptop is:\n",
      "Processor i5\n",
      "Ram 8\n",
      "Storage 512\n",
      "configuration of proffesional laptop is:\n",
      "battery 4500mp\n",
      "backup 100\n",
      "configuration of gaming laptop is:\n",
      "graphiccard 512\n"
     ]
    }
   ],
   "source": [
    "class laptop:\n",
    "    def __init__(self,p,r,s):\n",
    "        self.processor=p\n",
    "        self.ram=r\n",
    "        self.storage=s\n",
    "        \n",
    "    def config(self):\n",
    "        print(\"configuration of the laptop is:\")\n",
    "        print(\"Processor\",self.processor)\n",
    "        print(\"Ram\",self.ram)\n",
    "        print(\"Storage\",self.storage)\n",
    "\n",
    "if __name__==\"__main__\":\n",
    "    hp=laptop(\"i5\",8,512)\n",
    "    hp.config()\n",
    "\n",
    "class prolaptop(laptop):\n",
    "    def __init__(self,b,k):\n",
    "        self.battery=b\n",
    "        self.backup=k\n",
    "\n",
    "    def config(self):\n",
    "        print(\"configuration of proffesional laptop is:\")\n",
    "        print(\"battery\",self.battery)\n",
    "        print(\"backup\",self.backup)\n",
    "\n",
    "if __name__==\"__main__\":\n",
    "    hp=prolaptop(\"4500mp\",100)\n",
    "    hp.config()\n",
    "\n",
    "class gaming(laptop):\n",
    "    def __init__(self,g):\n",
    "        self.graphiccard=g\n",
    "    def config(self):\n",
    "        print(\"configuration of gaming laptop is:\")\n",
    "        print(\"graphiccard\",self.graphiccard)\n",
    "\n",
    "if __name__==\"__main__\":\n",
    "    hp=gaming(512)\n",
    "    hp.config()\n",
    "\n"
   ]
  },
  {
   "cell_type": "code",
   "execution_count": 9,
   "id": "cda2dee6-43ae-402c-940f-67254fbea933",
   "metadata": {},
   "outputs": [
    {
     "name": "stdout",
     "output_type": "stream",
     "text": [
      "professional laptop having 8 512 6 i5\n",
      "gaming laptop having 9 535 2 i7\n"
     ]
    }
   ],
   "source": [
    "class laptop:\n",
    "    def __init__(self,p,r,s):\n",
    "        self.processor=p\n",
    "        self.ram=r\n",
    "        self.storage=s\n",
    "\n",
    "class prof_laptop(laptop):\n",
    "    def __init__(self,bat,p,r,s):\n",
    "        self.battery=bat\n",
    "        super().__init__(p,r,s)\n",
    "        \n",
    "class gaming(laptop):\n",
    "    def __init__(self,graph,p,r,s):\n",
    "        self.graph=graph\n",
    "        super().__init__(p,r,s)\n",
    "\n",
    "pro1=prof_laptop(\"i5\",8,512,6)\n",
    "gam1=gaming(\"i7\",9,535,2)\n",
    "\n",
    "print(\"professional laptop having\",\n",
    "      pro1.processor,pro1.ram,\n",
    "      pro1.storage,pro1.battery)\n",
    "print(\"gaming laptop having\",\n",
    "      gam1.processor,gam1.ram,\n",
    "      gam1.storage,gam1.graph)"
   ]
  },
  {
   "cell_type": "code",
   "execution_count": null,
   "id": "a48cf30f-aca5-4fbb-a315-775cd62fcbab",
   "metadata": {},
   "outputs": [],
   "source": [
    "#write a program to demonstrate the working of a railway ticket booking.\n",
    "class ticket:\n",
    "    def __init__(self,D):\n",
    "        self.distance = int(D)\n",
    "\n",
    "class gen(ticket):\n",
    "    def __init__(self,D):\n",
    "        super().__init__(D)\n",
    "    def print_ticket(self):\n",
    "        fare_price=50+(self.D\n",
    "\n",
    "class slp:\n",
    "    pass\n",
    "\n",
    "class AC:\n",
    "    pass\n",
    "\n",
    "class Fc:\n",
    "    pass\n",
    "\n",
    "\n",
    "\n",
    "    "
   ]
  },
  {
   "cell_type": "code",
   "execution_count": 14,
   "id": "4a4a2387-8f31-4951-b2c1-a71234ad24c4",
   "metadata": {},
   "outputs": [
    {
     "name": "stdout",
     "output_type": "stream",
     "text": [
      "Ticket booked Fare Price will be:  4050\n"
     ]
    }
   ],
   "source": [
    "class ticket:\n",
    "   \n",
    "    def __init__(self,D):\n",
    "        self.distance=int(D)\n",
    "        self.farePrice = None\n",
    "\n",
    "class gen(ticket):\n",
    "    def __init__(self,D):\n",
    "        super().__init__(D)\n",
    "    def print__ticket(self):\n",
    "        self.farePrice=50+(self.distance*2)\n",
    "        return self.farePrice\n",
    "        \n",
    "\n",
    "\n",
    "class slp(gen):\n",
    "    def __init__(self,D):\n",
    "        super().__init__(D)\n",
    "\n",
    "    def print__ticket(self):\n",
    "        self.farePrice=super().print__ticket()+(2*self.distance)\n",
    "        return self.farePrice\n",
    "\n",
    "class AC(slp):\n",
    "    def __init__(self,D):\n",
    "        super().__init__(D)\n",
    "    def print__ticket(self):\n",
    "        self.farePrice=super().print__ticket()+(4*self.distance)\n",
    "        return self.farePrice\n",
    "\n",
    "class FC(AC):\n",
    "    def __init__(self,D):\n",
    "        super().__init__(D)\n",
    "    def print__ticket(self):\n",
    "        self.farePrice=super().print__ticket()+(5*self.distance)\n",
    "        return self.farePrice\n",
    "\n",
    "\n",
    "jur = AC(500)\n",
    "print(\"Ticket booked Fare Price will be: \",jur.print__ticket())"
   ]
  },
  {
   "cell_type": "code",
   "execution_count": null,
   "id": "7f73d714-8a19-4b47-a57a-d74a25e385f4",
   "metadata": {},
   "outputs": [],
   "source": []
  }
 ],
 "metadata": {
  "kernelspec": {
   "display_name": "Python 3 (ipykernel)",
   "language": "python",
   "name": "python3"
  },
  "language_info": {
   "codemirror_mode": {
    "name": "ipython",
    "version": 3
   },
   "file_extension": ".py",
   "mimetype": "text/x-python",
   "name": "python",
   "nbconvert_exporter": "python",
   "pygments_lexer": "ipython3",
   "version": "3.12.3"
  }
 },
 "nbformat": 4,
 "nbformat_minor": 5
}
